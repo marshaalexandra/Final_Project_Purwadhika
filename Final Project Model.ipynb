{
 "cells": [
  {
   "cell_type": "markdown",
   "id": "nominated-institute",
   "metadata": {},
   "source": [
    "<h1 align='center'>Final Project Purwadhika</h1>\n",
    "<h1 align='center'>Telco Customer Churn Rate</h1>\n",
    "<h4 align='center'>By Marsha Alexandra</h4>\n",
    "<img src='customerchurn.jpeg'>\n",
    "\n",
    "\n",
    "\n",
    "### Background\n",
    "Customer churn refers to when customers (e.g. subscribers, users, players etc.) stop using certain company product or service. Companies typically label a customer as churned when a particular amount of time has elapsed since the customer’s last interaction with the site or service. In the telecom industry, the customers are labelled churned when they actively switch from one operator to another. Telecommucation companies experiences a wide range of 10-67% annual customer churn rate. This industry is highly competitive due to convenient nature of the service, allowing customers to choose and switch from multiple service providers and other probable factors such as better price offers, more interesting packages, bad service experiences or change of customers’ personal situations.\n",
    "\n",
    "\n",
    "### Goal\n",
    "In a highly competitive market, increasing retention period of customers is a considerable concern within the telecommunication companies. The customer churn would require costs for lost revenue, marketing costs for attracting new potential customers, and additional costs for replacing the churned customers with the new ones. Therefore, predicting the customers who are likely to stop using the service will represent potentially large additional revenue source if it is done in the early phase. Thus it is an imperative need to create predictive machine learning model that could correctly predict the churned customer. The goals of exploration and machine learning model for this dataset are:\n",
    " 1. To determine factors that accounts to customer churn \n",
    " 2. To predict if an individual customer will churn or not\n",
    "\n",
    "\n",
    "### Dataset Columns Explanation\n",
    "The dataset I choose contains information about a fictional telco company that provided home phone and Internet services to 7043 customers in California in Q3.\n",
    "#### Demographics:\n",
    "- **customerID**: A unique ID that identifies each customer.\n",
    "- **gender**: The customer’s gender (Male, Female).\n",
    "- **SeniorCitizen**: Indicates if the customer is 65 or older (0 = No, 1 = Yes).\n",
    "- **Partner**: Indicates if the customer has partner (Yes, No).\n",
    "- **Dependents**: Indicates if the customer lives with any dependents (Yes, No). Dependents could be children, parents, grandparents, etc.\n",
    "\n",
    "#### Services:\n",
    "- **tenure** : Indicates the total amount of months that the customer has been with the company by the end of the quarter.\n",
    "- **PhoneService** : Indicates if the customer subscribes to home phone service with the company (Yes, No).\n",
    "- **MultipleLines** : Indicates if the customer subscribes to multiple telephone lines with the company (Yes, No, No phone service).\n",
    "- **InternetService**\t: Indicates if the customer subscribes to Internet service with the company (No, DSL, Fiber optic).\n",
    "- **OnlineSecurity**: Indicates if the customer subscribes to an additional online security service provided by the company (Yes, No, No internet service).\n",
    "- **OnlineBackup**: Indicates if the customer subscribes to an additional online backup service provided by the company (Yes, No, No internet service).\n",
    "- **DeviceProtection**: Indicates if the customer subscribes to an additional device protection plan for their Internet equipment provided by the company (Yes, No, No internet service).\n",
    "- **TechSupport**: Indicates if the customer subscribes to an additional technical support plan from the company with reduced wait times (Yes, No, No internet service).\n",
    "- **StreamingTV**: Indicates if the customer uses their Internet service to stream television programing from a third party provider (Yes, No, No internet service). The company does not charge an additional fee for this service.\n",
    "- **StreamingMovies**: Indicates if the customer uses their Internet service to stream movies from a third party provider (Yes, No, No internet service). The company does not charge an additional fee for this service.\n",
    "- **Contract**: Indicates the customer’s current contract type (Month-to-month, One year, Two year).\n",
    "- **PaperlessBilling** : Indicates if the customer has chosen paperless billing (Yes, No).\n",
    "- **PaymentMethod**: Indicates how the customer pays their bill (Electronic check, Mailed check, Bank transfer, Credit card).\n",
    "- **MonthlyCharges**: Indicates the customer’s current total monthly charge for all their services from the company.\n",
    "- **TotalCharges**: Indicates the customer’s total charges, calculated to the end of the quarter.\n",
    "\n",
    "#### Status:\n",
    "- **Churn**: Yes = the customer left the company this quarter. No = the customer remained with the company.\n"
   ]
  },
  {
   "cell_type": "code",
   "execution_count": 1,
   "id": "preliminary-trace",
   "metadata": {},
   "outputs": [],
   "source": [
    "# ------------------------------ Import library\n",
    "import pandas as pd\n",
    "import numpy as np\n",
    "import matplotlib.pyplot as plt\n",
    "import seaborn as sns\n",
    "\n",
    "# from google.colab import drive # import csv data from gdrive\n",
    "from sklearn.model_selection import train_test_split, cross_val_score\n",
    "from sklearn.compose import ColumnTransformer\n",
    "from sklearn.linear_model import LogisticRegression\n",
    "from sklearn.tree import DecisionTreeClassifier\n",
    "from sklearn.ensemble import RandomForestClassifier\n",
    "from xgboost import XGBClassifier\n",
    "from sklearn.neighbors import KNeighborsClassifier\n",
    "from sklearn.metrics import classification_report, confusion_matrix, f1_score, accuracy_score, recall_score, plot_precision_recall_curve, roc_auc_score, plot_roc_curve, auc, roc_curve\n",
    "from sklearn.model_selection import GridSearchCV, StratifiedKFold, RandomizedSearchCV\n",
    "from sklearn.pipeline import Pipeline\n",
    "from imblearn.over_sampling import SMOTE, RandomOverSampler\n",
    "from imblearn.under_sampling import RandomUnderSampler, NearMiss\n",
    "from imblearn.pipeline import Pipeline\n",
    "import warnings\n",
    "from sklearn.preprocessing import StandardScaler, RobustScaler, OneHotEncoder\n",
    "warnings.filterwarnings('ignore')"
   ]
  },
  {
   "cell_type": "markdown",
   "id": "involved-firewall",
   "metadata": {},
   "source": [
    "## Data Cleaning and Preprocessing"
   ]
  },
  {
   "cell_type": "code",
   "execution_count": 2,
   "id": "strange-toolbox",
   "metadata": {},
   "outputs": [
    {
     "data": {
      "text/html": [
       "<div>\n",
       "<style scoped>\n",
       "    .dataframe tbody tr th:only-of-type {\n",
       "        vertical-align: middle;\n",
       "    }\n",
       "\n",
       "    .dataframe tbody tr th {\n",
       "        vertical-align: top;\n",
       "    }\n",
       "\n",
       "    .dataframe thead th {\n",
       "        text-align: right;\n",
       "    }\n",
       "</style>\n",
       "<table border=\"1\" class=\"dataframe\">\n",
       "  <thead>\n",
       "    <tr style=\"text-align: right;\">\n",
       "      <th></th>\n",
       "      <th>customerID</th>\n",
       "      <th>gender</th>\n",
       "      <th>SeniorCitizen</th>\n",
       "      <th>Partner</th>\n",
       "      <th>Dependents</th>\n",
       "      <th>tenure</th>\n",
       "      <th>PhoneService</th>\n",
       "      <th>MultipleLines</th>\n",
       "      <th>InternetService</th>\n",
       "      <th>OnlineSecurity</th>\n",
       "      <th>...</th>\n",
       "      <th>DeviceProtection</th>\n",
       "      <th>TechSupport</th>\n",
       "      <th>StreamingTV</th>\n",
       "      <th>StreamingMovies</th>\n",
       "      <th>Contract</th>\n",
       "      <th>PaperlessBilling</th>\n",
       "      <th>PaymentMethod</th>\n",
       "      <th>MonthlyCharges</th>\n",
       "      <th>TotalCharges</th>\n",
       "      <th>Churn</th>\n",
       "    </tr>\n",
       "  </thead>\n",
       "  <tbody>\n",
       "    <tr>\n",
       "      <th>0</th>\n",
       "      <td>7590-VHVEG</td>\n",
       "      <td>Female</td>\n",
       "      <td>0</td>\n",
       "      <td>Yes</td>\n",
       "      <td>No</td>\n",
       "      <td>1</td>\n",
       "      <td>No</td>\n",
       "      <td>No phone service</td>\n",
       "      <td>DSL</td>\n",
       "      <td>No</td>\n",
       "      <td>...</td>\n",
       "      <td>No</td>\n",
       "      <td>No</td>\n",
       "      <td>No</td>\n",
       "      <td>No</td>\n",
       "      <td>Month-to-month</td>\n",
       "      <td>Yes</td>\n",
       "      <td>Electronic check</td>\n",
       "      <td>29.85</td>\n",
       "      <td>29.85</td>\n",
       "      <td>No</td>\n",
       "    </tr>\n",
       "    <tr>\n",
       "      <th>1</th>\n",
       "      <td>5575-GNVDE</td>\n",
       "      <td>Male</td>\n",
       "      <td>0</td>\n",
       "      <td>No</td>\n",
       "      <td>No</td>\n",
       "      <td>34</td>\n",
       "      <td>Yes</td>\n",
       "      <td>No</td>\n",
       "      <td>DSL</td>\n",
       "      <td>Yes</td>\n",
       "      <td>...</td>\n",
       "      <td>Yes</td>\n",
       "      <td>No</td>\n",
       "      <td>No</td>\n",
       "      <td>No</td>\n",
       "      <td>One year</td>\n",
       "      <td>No</td>\n",
       "      <td>Mailed check</td>\n",
       "      <td>56.95</td>\n",
       "      <td>1889.5</td>\n",
       "      <td>No</td>\n",
       "    </tr>\n",
       "    <tr>\n",
       "      <th>2</th>\n",
       "      <td>3668-QPYBK</td>\n",
       "      <td>Male</td>\n",
       "      <td>0</td>\n",
       "      <td>No</td>\n",
       "      <td>No</td>\n",
       "      <td>2</td>\n",
       "      <td>Yes</td>\n",
       "      <td>No</td>\n",
       "      <td>DSL</td>\n",
       "      <td>Yes</td>\n",
       "      <td>...</td>\n",
       "      <td>No</td>\n",
       "      <td>No</td>\n",
       "      <td>No</td>\n",
       "      <td>No</td>\n",
       "      <td>Month-to-month</td>\n",
       "      <td>Yes</td>\n",
       "      <td>Mailed check</td>\n",
       "      <td>53.85</td>\n",
       "      <td>108.15</td>\n",
       "      <td>Yes</td>\n",
       "    </tr>\n",
       "    <tr>\n",
       "      <th>3</th>\n",
       "      <td>7795-CFOCW</td>\n",
       "      <td>Male</td>\n",
       "      <td>0</td>\n",
       "      <td>No</td>\n",
       "      <td>No</td>\n",
       "      <td>45</td>\n",
       "      <td>No</td>\n",
       "      <td>No phone service</td>\n",
       "      <td>DSL</td>\n",
       "      <td>Yes</td>\n",
       "      <td>...</td>\n",
       "      <td>Yes</td>\n",
       "      <td>Yes</td>\n",
       "      <td>No</td>\n",
       "      <td>No</td>\n",
       "      <td>One year</td>\n",
       "      <td>No</td>\n",
       "      <td>Bank transfer (automatic)</td>\n",
       "      <td>42.30</td>\n",
       "      <td>1840.75</td>\n",
       "      <td>No</td>\n",
       "    </tr>\n",
       "    <tr>\n",
       "      <th>4</th>\n",
       "      <td>9237-HQITU</td>\n",
       "      <td>Female</td>\n",
       "      <td>0</td>\n",
       "      <td>No</td>\n",
       "      <td>No</td>\n",
       "      <td>2</td>\n",
       "      <td>Yes</td>\n",
       "      <td>No</td>\n",
       "      <td>Fiber optic</td>\n",
       "      <td>No</td>\n",
       "      <td>...</td>\n",
       "      <td>No</td>\n",
       "      <td>No</td>\n",
       "      <td>No</td>\n",
       "      <td>No</td>\n",
       "      <td>Month-to-month</td>\n",
       "      <td>Yes</td>\n",
       "      <td>Electronic check</td>\n",
       "      <td>70.70</td>\n",
       "      <td>151.65</td>\n",
       "      <td>Yes</td>\n",
       "    </tr>\n",
       "  </tbody>\n",
       "</table>\n",
       "<p>5 rows × 21 columns</p>\n",
       "</div>"
      ],
      "text/plain": [
       "   customerID  gender  SeniorCitizen Partner Dependents  tenure PhoneService  \\\n",
       "0  7590-VHVEG  Female              0     Yes         No       1           No   \n",
       "1  5575-GNVDE    Male              0      No         No      34          Yes   \n",
       "2  3668-QPYBK    Male              0      No         No       2          Yes   \n",
       "3  7795-CFOCW    Male              0      No         No      45           No   \n",
       "4  9237-HQITU  Female              0      No         No       2          Yes   \n",
       "\n",
       "      MultipleLines InternetService OnlineSecurity  ... DeviceProtection  \\\n",
       "0  No phone service             DSL             No  ...               No   \n",
       "1                No             DSL            Yes  ...              Yes   \n",
       "2                No             DSL            Yes  ...               No   \n",
       "3  No phone service             DSL            Yes  ...              Yes   \n",
       "4                No     Fiber optic             No  ...               No   \n",
       "\n",
       "  TechSupport StreamingTV StreamingMovies        Contract PaperlessBilling  \\\n",
       "0          No          No              No  Month-to-month              Yes   \n",
       "1          No          No              No        One year               No   \n",
       "2          No          No              No  Month-to-month              Yes   \n",
       "3         Yes          No              No        One year               No   \n",
       "4          No          No              No  Month-to-month              Yes   \n",
       "\n",
       "               PaymentMethod MonthlyCharges  TotalCharges Churn  \n",
       "0           Electronic check          29.85         29.85    No  \n",
       "1               Mailed check          56.95        1889.5    No  \n",
       "2               Mailed check          53.85        108.15   Yes  \n",
       "3  Bank transfer (automatic)          42.30       1840.75    No  \n",
       "4           Electronic check          70.70        151.65   Yes  \n",
       "\n",
       "[5 rows x 21 columns]"
      ]
     },
     "execution_count": 2,
     "metadata": {},
     "output_type": "execute_result"
    }
   ],
   "source": [
    "# Import Dataset\n",
    "df = pd.read_csv('telco.csv')\n",
    "df.head()"
   ]
  },
  {
   "cell_type": "code",
   "execution_count": 3,
   "id": "swiss-salon",
   "metadata": {},
   "outputs": [],
   "source": [
    "#Renaming some columns for better execution in subsequent analysis and machine learning building\n",
    "df.rename(columns={\"customerID\": \"CustomerID\", \"gender\": \"Gender\",\"tenure\": \"Tenure\"}, inplace = True)\n",
    "\n",
    "#Changing type of TotalCharges and Tenure to float\n",
    "df[\"TotalCharges\"] = pd.to_numeric(df.TotalCharges, errors='coerce')\n",
    "df[\"Tenure\"] = df['Tenure'].astype(float)"
   ]
  },
  {
   "cell_type": "code",
   "execution_count": 4,
   "id": "hairy-aggregate",
   "metadata": {},
   "outputs": [
    {
     "name": "stdout",
     "output_type": "stream",
     "text": [
      "<class 'pandas.core.frame.DataFrame'>\n",
      "RangeIndex: 7043 entries, 0 to 7042\n",
      "Data columns (total 21 columns):\n",
      " #   Column            Non-Null Count  Dtype  \n",
      "---  ------            --------------  -----  \n",
      " 0   CustomerID        7043 non-null   object \n",
      " 1   Gender            7043 non-null   object \n",
      " 2   SeniorCitizen     7043 non-null   int64  \n",
      " 3   Partner           7043 non-null   object \n",
      " 4   Dependents        7043 non-null   object \n",
      " 5   Tenure            7043 non-null   float64\n",
      " 6   PhoneService      7043 non-null   object \n",
      " 7   MultipleLines     7043 non-null   object \n",
      " 8   InternetService   7043 non-null   object \n",
      " 9   OnlineSecurity    7043 non-null   object \n",
      " 10  OnlineBackup      7043 non-null   object \n",
      " 11  DeviceProtection  7043 non-null   object \n",
      " 12  TechSupport       7043 non-null   object \n",
      " 13  StreamingTV       7043 non-null   object \n",
      " 14  StreamingMovies   7043 non-null   object \n",
      " 15  Contract          7043 non-null   object \n",
      " 16  PaperlessBilling  7043 non-null   object \n",
      " 17  PaymentMethod     7043 non-null   object \n",
      " 18  MonthlyCharges    7043 non-null   float64\n",
      " 19  TotalCharges      7032 non-null   float64\n",
      " 20  Churn             7043 non-null   object \n",
      "dtypes: float64(3), int64(1), object(17)\n",
      "memory usage: 1.1+ MB\n"
     ]
    }
   ],
   "source": [
    "df.info()"
   ]
  },
  {
   "cell_type": "markdown",
   "id": "medical-drilling",
   "metadata": {},
   "source": [
    "### Checking Outliers"
   ]
  },
  {
   "cell_type": "code",
   "execution_count": 5,
   "id": "following-burke",
   "metadata": {},
   "outputs": [
    {
     "name": "stdout",
     "output_type": "stream",
     "text": [
      "Nilai Q1:\n",
      "Tenure              9.00\n",
      "MonthlyCharges     35.50\n",
      "TotalCharges      401.45\n",
      "Name: 0.25, dtype: float64\n",
      "Nilai Q3:\n",
      "Tenure              55.0000\n",
      "MonthlyCharges      89.8500\n",
      "TotalCharges      3794.7375\n",
      "Name: 0.75, dtype: float64\n",
      "Nilai IQR:\n",
      "Tenure              46.0000\n",
      "MonthlyCharges      54.3500\n",
      "TotalCharges      3393.2875\n",
      "dtype: float64\n"
     ]
    }
   ],
   "source": [
    "numerical_feat = ['Tenure','MonthlyCharges','TotalCharges']\n",
    "df_num = df[numerical_feat]\n",
    "df_num.describe()\n",
    "\n",
    "Q1 = df_num.quantile(0.25)\n",
    "Q3 = df_num.quantile(0.75)\n",
    "IQR = Q3 - Q1\n",
    "print('Nilai Q1:\\n' + str(Q1))\n",
    "print('Nilai Q3:\\n' + str(Q3))\n",
    "print('Nilai IQR:\\n' + str(IQR))"
   ]
  },
  {
   "cell_type": "code",
   "execution_count": 6,
   "id": "piano-league",
   "metadata": {},
   "outputs": [
    {
     "data": {
      "text/plain": [
       "Tenure            False\n",
       "MonthlyCharges    False\n",
       "TotalCharges      False\n",
       "dtype: bool"
      ]
     },
     "execution_count": 6,
     "metadata": {},
     "output_type": "execute_result"
    }
   ],
   "source": [
    "((df_num < (Q1 - (1.5*IQR)))|(df_num > (Q3 + (1.5*IQR)))).any()"
   ]
  },
  {
   "cell_type": "markdown",
   "id": "worse-arabic",
   "metadata": {},
   "source": [
    "> No outlier detected on numerical features. We can use Standard Scaler for scalling the numerical features as Standard Scaler is sensitive to outliers."
   ]
  },
  {
   "cell_type": "markdown",
   "id": "worldwide-dakota",
   "metadata": {},
   "source": [
    "### Data Cleaning - Missing Value Treatment"
   ]
  },
  {
   "cell_type": "code",
   "execution_count": 7,
   "id": "fundamental-investor",
   "metadata": {},
   "outputs": [
    {
     "name": "stdout",
     "output_type": "stream",
     "text": [
      "<class 'pandas.core.frame.DataFrame'>\n",
      "Int64Index: 7032 entries, 0 to 7042\n",
      "Data columns (total 21 columns):\n",
      " #   Column            Non-Null Count  Dtype  \n",
      "---  ------            --------------  -----  \n",
      " 0   CustomerID        7032 non-null   object \n",
      " 1   Gender            7032 non-null   object \n",
      " 2   SeniorCitizen     7032 non-null   int64  \n",
      " 3   Partner           7032 non-null   object \n",
      " 4   Dependents        7032 non-null   object \n",
      " 5   Tenure            7032 non-null   float64\n",
      " 6   PhoneService      7032 non-null   object \n",
      " 7   MultipleLines     7032 non-null   object \n",
      " 8   InternetService   7032 non-null   object \n",
      " 9   OnlineSecurity    7032 non-null   object \n",
      " 10  OnlineBackup      7032 non-null   object \n",
      " 11  DeviceProtection  7032 non-null   object \n",
      " 12  TechSupport       7032 non-null   object \n",
      " 13  StreamingTV       7032 non-null   object \n",
      " 14  StreamingMovies   7032 non-null   object \n",
      " 15  Contract          7032 non-null   object \n",
      " 16  PaperlessBilling  7032 non-null   object \n",
      " 17  PaymentMethod     7032 non-null   object \n",
      " 18  MonthlyCharges    7032 non-null   float64\n",
      " 19  TotalCharges      7032 non-null   float64\n",
      " 20  Churn             7032 non-null   object \n",
      "dtypes: float64(3), int64(1), object(17)\n",
      "memory usage: 1.2+ MB\n"
     ]
    }
   ],
   "source": [
    "df = df.dropna()\n",
    "df.info()"
   ]
  },
  {
   "cell_type": "markdown",
   "id": "boxed-juvenile",
   "metadata": {},
   "source": [
    "### Data Preprocessing"
   ]
  },
  {
   "cell_type": "markdown",
   "id": "supreme-insight",
   "metadata": {},
   "source": [
    "Preprocessing Scheme:\n",
    "\n",
    "1. Column removed:\n",
    "    - CustomerID: not relevant to machine learning model building\n",
    "2. OneHot Encoding, done in categorical features which have 2-3 non-ordinal values:\n",
    "    - Gender\n",
    "    - Partner\n",
    "    - Dependents\n",
    "    - PhoneService\n",
    "    - MultipleLines\n",
    "    - InternetService\n",
    "    - OnlineSecurity\n",
    "    - OnlineBackup\n",
    "    - DeviceProtection\n",
    "    - TechSupport\n",
    "    - StreamingTV\n",
    "    - StreamingMovies\n",
    "    - Contract\n",
    "    - PaymentMethod\n",
    "    - PaperlessBilling\n",
    "3. Label Encoding, done in target column which have Yes and No values. The values are transformed to binary integers to make it readable for machine learning model to process.\n",
    "    - Churn\n",
    "4. StandardScaling, done in numerical features:\n",
    "    - Tenure\n",
    "    - MonthlyCharges\n",
    "    - TotalCharges\n",
    "5. Passthrough:\n",
    "    - SeniorCitizen"
   ]
  },
  {
   "cell_type": "code",
   "execution_count": 8,
   "id": "other-planner",
   "metadata": {},
   "outputs": [],
   "source": [
    "df['Churn'] = np.where(df['Churn']=='Yes',1,0)"
   ]
  },
  {
   "cell_type": "code",
   "execution_count": 9,
   "id": "express-beaver",
   "metadata": {},
   "outputs": [],
   "source": [
    "transformer = ColumnTransformer([\n",
    "    ('one hot', OneHotEncoder(drop = 'first'),['Gender','Partner','Dependents','PhoneService','MultipleLines','InternetService','OnlineSecurity','OnlineBackup','DeviceProtection','TechSupport','StreamingTV','StreamingMovies','Contract','PaymentMethod','PaperlessBilling']),\n",
    "    ('scalling', StandardScaler(),['Tenure','MonthlyCharges','TotalCharges'])\n",
    "], remainder = 'passthrough')"
   ]
  },
  {
   "cell_type": "code",
   "execution_count": 10,
   "id": "powerful-intent",
   "metadata": {},
   "outputs": [
    {
     "data": {
      "text/plain": [
       "array([[0.0, 1.0, 0.0, ..., '7590-VHVEG', 0, 0],\n",
       "       [1.0, 0.0, 0.0, ..., '5575-GNVDE', 0, 0],\n",
       "       [1.0, 0.0, 0.0, ..., '3668-QPYBK', 0, 1],\n",
       "       ...,\n",
       "       [0.0, 1.0, 1.0, ..., '4801-JZAZL', 0, 0],\n",
       "       [1.0, 1.0, 0.0, ..., '8361-LTMKD', 1, 1],\n",
       "       [1.0, 0.0, 0.0, ..., '3186-AJIEK', 0, 0]], dtype=object)"
      ]
     },
     "execution_count": 10,
     "metadata": {},
     "output_type": "execute_result"
    }
   ],
   "source": [
    "transformer.fit_transform(df)"
   ]
  },
  {
   "cell_type": "markdown",
   "id": "fourth-press",
   "metadata": {},
   "source": [
    "### Data Splitting"
   ]
  },
  {
   "cell_type": "code",
   "execution_count": 11,
   "id": "spanish-financing",
   "metadata": {},
   "outputs": [],
   "source": [
    "x = df.drop(columns=['CustomerID','Churn'])\n",
    "y = df['Churn']"
   ]
  },
  {
   "cell_type": "code",
   "execution_count": 12,
   "id": "recent-founder",
   "metadata": {},
   "outputs": [],
   "source": [
    "x_train, x_test, y_train, y_test = train_test_split(x, y, \n",
    "                                                    stratify = y,\n",
    "                                                    test_size = 0.3,\n",
    "                                                    random_state = 42)"
   ]
  },
  {
   "cell_type": "markdown",
   "id": "constitutional-month",
   "metadata": {},
   "source": [
    "## Model Selection\n",
    "\n",
    "Several models will be used for predicting binary classification:\n",
    "   - Logistic Regression: fast and linear algorithm for predicting the probability of an instance belonging to the default class (0 and 1 classification), assuming a linear relationship between the input variables and the output variables.\n",
    "   - KNN: simple classification algorithm that stores all available classes and classifies the class based on a similarity measure.\n",
    "   - Decision Tree: algorithm that uses tree representation to identify the most significant variables in which each node represents an attribute and each leaf corresponds to a class.\n",
    "   - Random Forest: algorithm that combines several Decision Trees with bootstrap aggregation to make a more accurate ensemble model \n",
    "   - Extreme Gradient Boosting: an optimized version of gradient boosting, an ensemble model from numerous regression trees as weak learners, with each new tree focusing on the errors of the previous tree."
   ]
  },
  {
   "cell_type": "markdown",
   "id": "similar-smell",
   "metadata": {},
   "source": [
    "### Model Benchmark"
   ]
  },
  {
   "cell_type": "code",
   "execution_count": 13,
   "id": "sporting-residence",
   "metadata": {},
   "outputs": [],
   "source": [
    "models = [\n",
    "    ['Log Regression', LogisticRegression(max_iter=10000)], \n",
    "    ['Decision Tree', DecisionTreeClassifier(max_depth=3, random_state=42)], \n",
    "    ['K Neighbors', KNeighborsClassifier(n_neighbors=2)],\n",
    "    ['Random Forest', RandomForestClassifier(max_depth = 3, n_estimators = 20, max_features = 4)],\n",
    "    ['XGB Classifier', XGBClassifier(max_depth = 3, n_estimators = 200, learning_rate = 0.1, random_state = 42)]]"
   ]
  },
  {
   "cell_type": "markdown",
   "id": "unlimited-jungle",
   "metadata": {},
   "source": [
    "### Model Metric Evaluation\n",
    "\n",
    "In this dataset, there are errors where the actual class contradicts with the predicted class:\n",
    "1. False Positives (FP) – When actual class is no and predicted class is yes. In this case, if actual class indicates a certain customer did not churn but predicted class tells that the customer churn.\n",
    "2. False Negatives (FN) – When actual class is yes but predicted class in no. In this case, if actual class value indicates that a certain customer churn and predicted class tells that the customer did not churn.\n",
    "\n",
    "The effect of false positive would cause the company to monitor the customers and create more aggresive marketing and promotion deals to attract customers who are predicted to churn. However, false negative would cost much more revenue loss as we fail to predict the actual churned customers. Analyzing this dataset from the business perspective, customer churn is a major problem and one of the most important concerns for telco companies. As mentioned above, customer churn would require costs for lost revenue, marketing costs for attracting new potential customers, and additional costs for replacing the churned customers with the new ones. It is estimated the cost to acquire a new customer would be 5-10 times higher than to retain an existing one. Taking return on investment (RoI) into account, customer retention is more profitable than customer acquisition. Therefore, accurately predicting the churned customer is essential. I choose to reduce False negative values and the metric evaluation needed in this case is recall.  Recall, also known as sensitivity and the True Positive Rate refers to how well the model classifies true values. Lower false negative values would mean higher recall score."
   ]
  },
  {
   "cell_type": "code",
   "execution_count": 14,
   "id": "caroline-activity",
   "metadata": {},
   "outputs": [],
   "source": [
    "skfold = StratifiedKFold(n_splits = 5)\n",
    "\n",
    "def evaluate (models):\n",
    "\n",
    "    model_name=[]\n",
    "    scores=[]\n",
    "    score_std=[]\n",
    "    for name, model in models:\n",
    "        model = model\n",
    "        estimator = Pipeline([\n",
    "            ('transformer', transformer),\n",
    "            ('model', model)])\n",
    "\n",
    "        skfold=StratifiedKFold(n_splits=5)\n",
    "        score= cross_val_score(estimator,x_train,y_train,scoring='recall',cv=skfold).mean()\n",
    "        std= cross_val_score(estimator,x_train,y_train,scoring='recall',cv=skfold).std()\n",
    "        scores.append(score)\n",
    "        score_std.append(std)\n",
    "        model_name.append(name)\n",
    "\n",
    "    return pd.DataFrame({'Name': model_name,'score':scores, 'score_std':score_std})"
   ]
  },
  {
   "cell_type": "code",
   "execution_count": 15,
   "id": "suspected-louisville",
   "metadata": {},
   "outputs": [
    {
     "name": "stdout",
     "output_type": "stream",
     "text": [
      "[13:36:40] WARNING: /Users/travis/build/dmlc/xgboost/src/learner.cc:1061: Starting in XGBoost 1.3.0, the default evaluation metric used with the objective 'binary:logistic' was changed from 'error' to 'logloss'. Explicitly set eval_metric if you'd like to restore the old behavior.\n",
      "[13:36:41] WARNING: /Users/travis/build/dmlc/xgboost/src/learner.cc:1061: Starting in XGBoost 1.3.0, the default evaluation metric used with the objective 'binary:logistic' was changed from 'error' to 'logloss'. Explicitly set eval_metric if you'd like to restore the old behavior.\n",
      "[13:36:42] WARNING: /Users/travis/build/dmlc/xgboost/src/learner.cc:1061: Starting in XGBoost 1.3.0, the default evaluation metric used with the objective 'binary:logistic' was changed from 'error' to 'logloss'. Explicitly set eval_metric if you'd like to restore the old behavior.\n",
      "[13:36:43] WARNING: /Users/travis/build/dmlc/xgboost/src/learner.cc:1061: Starting in XGBoost 1.3.0, the default evaluation metric used with the objective 'binary:logistic' was changed from 'error' to 'logloss'. Explicitly set eval_metric if you'd like to restore the old behavior.\n",
      "[13:36:43] WARNING: /Users/travis/build/dmlc/xgboost/src/learner.cc:1061: Starting in XGBoost 1.3.0, the default evaluation metric used with the objective 'binary:logistic' was changed from 'error' to 'logloss'. Explicitly set eval_metric if you'd like to restore the old behavior.\n",
      "[13:36:44] WARNING: /Users/travis/build/dmlc/xgboost/src/learner.cc:1061: Starting in XGBoost 1.3.0, the default evaluation metric used with the objective 'binary:logistic' was changed from 'error' to 'logloss'. Explicitly set eval_metric if you'd like to restore the old behavior.\n",
      "[13:36:45] WARNING: /Users/travis/build/dmlc/xgboost/src/learner.cc:1061: Starting in XGBoost 1.3.0, the default evaluation metric used with the objective 'binary:logistic' was changed from 'error' to 'logloss'. Explicitly set eval_metric if you'd like to restore the old behavior.\n",
      "[13:36:46] WARNING: /Users/travis/build/dmlc/xgboost/src/learner.cc:1061: Starting in XGBoost 1.3.0, the default evaluation metric used with the objective 'binary:logistic' was changed from 'error' to 'logloss'. Explicitly set eval_metric if you'd like to restore the old behavior.\n",
      "[13:36:46] WARNING: /Users/travis/build/dmlc/xgboost/src/learner.cc:1061: Starting in XGBoost 1.3.0, the default evaluation metric used with the objective 'binary:logistic' was changed from 'error' to 'logloss'. Explicitly set eval_metric if you'd like to restore the old behavior.\n",
      "[13:36:47] WARNING: /Users/travis/build/dmlc/xgboost/src/learner.cc:1061: Starting in XGBoost 1.3.0, the default evaluation metric used with the objective 'binary:logistic' was changed from 'error' to 'logloss'. Explicitly set eval_metric if you'd like to restore the old behavior.\n"
     ]
    },
    {
     "data": {
      "text/html": [
       "<div>\n",
       "<style scoped>\n",
       "    .dataframe tbody tr th:only-of-type {\n",
       "        vertical-align: middle;\n",
       "    }\n",
       "\n",
       "    .dataframe tbody tr th {\n",
       "        vertical-align: top;\n",
       "    }\n",
       "\n",
       "    .dataframe thead th {\n",
       "        text-align: right;\n",
       "    }\n",
       "</style>\n",
       "<table border=\"1\" class=\"dataframe\">\n",
       "  <thead>\n",
       "    <tr style=\"text-align: right;\">\n",
       "      <th></th>\n",
       "      <th>Name</th>\n",
       "      <th>score</th>\n",
       "      <th>score_std</th>\n",
       "    </tr>\n",
       "  </thead>\n",
       "  <tbody>\n",
       "    <tr>\n",
       "      <th>0</th>\n",
       "      <td>Log Regression</td>\n",
       "      <td>0.548919</td>\n",
       "      <td>0.010383</td>\n",
       "    </tr>\n",
       "    <tr>\n",
       "      <th>1</th>\n",
       "      <td>Decision Tree</td>\n",
       "      <td>0.335585</td>\n",
       "      <td>0.041744</td>\n",
       "    </tr>\n",
       "    <tr>\n",
       "      <th>2</th>\n",
       "      <td>K Neighbors</td>\n",
       "      <td>0.306566</td>\n",
       "      <td>0.018646</td>\n",
       "    </tr>\n",
       "    <tr>\n",
       "      <th>3</th>\n",
       "      <td>Random Forest</td>\n",
       "      <td>0.302021</td>\n",
       "      <td>0.024120</td>\n",
       "    </tr>\n",
       "    <tr>\n",
       "      <th>4</th>\n",
       "      <td>XGB Classifier</td>\n",
       "      <td>0.526013</td>\n",
       "      <td>0.031373</td>\n",
       "    </tr>\n",
       "  </tbody>\n",
       "</table>\n",
       "</div>"
      ],
      "text/plain": [
       "             Name     score  score_std\n",
       "0  Log Regression  0.548919   0.010383\n",
       "1   Decision Tree  0.335585   0.041744\n",
       "2     K Neighbors  0.306566   0.018646\n",
       "3   Random Forest  0.302021   0.024120\n",
       "4  XGB Classifier  0.526013   0.031373"
      ]
     },
     "execution_count": 15,
     "metadata": {},
     "output_type": "execute_result"
    }
   ],
   "source": [
    "evaluate(models)"
   ]
  },
  {
   "cell_type": "code",
   "execution_count": 16,
   "id": "editorial-scott",
   "metadata": {},
   "outputs": [],
   "source": [
    "def recall (models):\n",
    "\n",
    "    model_name=[]\n",
    "    recall_scores=[]\n",
    "    score_std=[]\n",
    "    for name, model in models:\n",
    "        model = model\n",
    "        estimator = Pipeline([\n",
    "            ('transformer', transformer),\n",
    "            ('model', model)])\n",
    "\n",
    "        estimator.fit(x_train,y_train)\n",
    "        y_pred = estimator.predict(x_test)\n",
    "        recall = recall_score(y_test, y_pred)\n",
    "        recall_scores.append(recall)\n",
    "        model_name.append(name)\n",
    "\n",
    "    return pd.DataFrame({'Name': model_name,'Recall score':recall_scores})"
   ]
  },
  {
   "cell_type": "code",
   "execution_count": 17,
   "id": "greenhouse-obligation",
   "metadata": {},
   "outputs": [
    {
     "name": "stdout",
     "output_type": "stream",
     "text": [
      "[13:36:48] WARNING: /Users/travis/build/dmlc/xgboost/src/learner.cc:1061: Starting in XGBoost 1.3.0, the default evaluation metric used with the objective 'binary:logistic' was changed from 'error' to 'logloss'. Explicitly set eval_metric if you'd like to restore the old behavior.\n"
     ]
    },
    {
     "data": {
      "text/html": [
       "<div>\n",
       "<style scoped>\n",
       "    .dataframe tbody tr th:only-of-type {\n",
       "        vertical-align: middle;\n",
       "    }\n",
       "\n",
       "    .dataframe tbody tr th {\n",
       "        vertical-align: top;\n",
       "    }\n",
       "\n",
       "    .dataframe thead th {\n",
       "        text-align: right;\n",
       "    }\n",
       "</style>\n",
       "<table border=\"1\" class=\"dataframe\">\n",
       "  <thead>\n",
       "    <tr style=\"text-align: right;\">\n",
       "      <th></th>\n",
       "      <th>Name</th>\n",
       "      <th>Recall score</th>\n",
       "    </tr>\n",
       "  </thead>\n",
       "  <tbody>\n",
       "    <tr>\n",
       "      <th>0</th>\n",
       "      <td>Log Regression</td>\n",
       "      <td>0.566845</td>\n",
       "    </tr>\n",
       "    <tr>\n",
       "      <th>1</th>\n",
       "      <td>Decision Tree</td>\n",
       "      <td>0.320856</td>\n",
       "    </tr>\n",
       "    <tr>\n",
       "      <th>2</th>\n",
       "      <td>K Neighbors</td>\n",
       "      <td>0.304813</td>\n",
       "    </tr>\n",
       "    <tr>\n",
       "      <th>3</th>\n",
       "      <td>Random Forest</td>\n",
       "      <td>0.162210</td>\n",
       "    </tr>\n",
       "    <tr>\n",
       "      <th>4</th>\n",
       "      <td>XGB Classifier</td>\n",
       "      <td>0.499109</td>\n",
       "    </tr>\n",
       "  </tbody>\n",
       "</table>\n",
       "</div>"
      ],
      "text/plain": [
       "             Name  Recall score\n",
       "0  Log Regression      0.566845\n",
       "1   Decision Tree      0.320856\n",
       "2     K Neighbors      0.304813\n",
       "3   Random Forest      0.162210\n",
       "4  XGB Classifier      0.499109"
      ]
     },
     "execution_count": 17,
     "metadata": {},
     "output_type": "execute_result"
    }
   ],
   "source": [
    "recall(models)"
   ]
  },
  {
   "cell_type": "markdown",
   "id": "pharmaceutical-polish",
   "metadata": {},
   "source": [
    ">From the cross validation and recall score, model with the best performance is Logistic Regression. Logistic Regression also has the smallest standard deviation score. However, the models were evaluated in imbalance dataset, resulting in moderate recall score (0.56). Therefore, the imbalanced dataset will be treated with resampling & algorithm-based methods and all the models will be re-evaluated. "
   ]
  },
  {
   "cell_type": "markdown",
   "id": "expected-bikini",
   "metadata": {},
   "source": [
    "### Imbalance Dataset Handling"
   ]
  },
  {
   "cell_type": "markdown",
   "id": "civil-blackberry",
   "metadata": {},
   "source": [
    "#### Resampling Method"
   ]
  },
  {
   "cell_type": "code",
   "execution_count": 18,
   "id": "norwegian-defensive",
   "metadata": {},
   "outputs": [],
   "source": [
    "#Resampling Method Used\n",
    "smote = SMOTE(random_state=42)\n",
    "nearmiss = NearMiss()"
   ]
  },
  {
   "cell_type": "code",
   "execution_count": 19,
   "id": "going-thirty",
   "metadata": {},
   "outputs": [],
   "source": [
    "#Model Benchmark\n",
    "logreg = LogisticRegression(max_iter=10000)\n",
    "tree = DecisionTreeClassifier(max_depth=3, random_state=42)\n",
    "knn = KNeighborsClassifier(n_neighbors=2)\n",
    "rf = RandomForestClassifier(max_depth = 3, n_estimators = 20, max_features = 4)\n",
    "xgb = XGBClassifier(max_depth = 3, n_estimators = 200, learning_rate = 0.1, random_state = 42)"
   ]
  },
  {
   "cell_type": "code",
   "execution_count": 20,
   "id": "extended-spoke",
   "metadata": {},
   "outputs": [],
   "source": [
    "estimator_balance = Pipeline([('transformer', transformer), ('balancing', smote), ('model', logreg)])"
   ]
  },
  {
   "cell_type": "code",
   "execution_count": 21,
   "id": "numerous-worthy",
   "metadata": {},
   "outputs": [
    {
     "data": {
      "text/plain": [
       "GridSearchCV(cv=StratifiedKFold(n_splits=5, random_state=None, shuffle=False),\n",
       "             estimator=Pipeline(steps=[('transformer',\n",
       "                                        ColumnTransformer(remainder='passthrough',\n",
       "                                                          transformers=[('one '\n",
       "                                                                         'hot',\n",
       "                                                                         OneHotEncoder(drop='first'),\n",
       "                                                                         ['Gender',\n",
       "                                                                          'Partner',\n",
       "                                                                          'Dependents',\n",
       "                                                                          'PhoneService',\n",
       "                                                                          'MultipleLines',\n",
       "                                                                          'InternetService',\n",
       "                                                                          'OnlineSecurity',\n",
       "                                                                          'OnlineBackup',\n",
       "                                                                          'DeviceProtection',\n",
       "                                                                          'Tec...\n",
       "                                                 interaction_constraints=None,\n",
       "                                                 learning_rate=0.1,\n",
       "                                                 max_delta_step=None,\n",
       "                                                 max_depth=3,\n",
       "                                                 min_child_weight=None,\n",
       "                                                 missing=nan,\n",
       "                                                 monotone_constraints=None,\n",
       "                                                 n_estimators=200, n_jobs=None,\n",
       "                                                 num_parallel_tree=None,\n",
       "                                                 random_state=42,\n",
       "                                                 reg_alpha=None,\n",
       "                                                 reg_lambda=None,\n",
       "                                                 scale_pos_weight=None,\n",
       "                                                 subsample=None,\n",
       "                                                 tree_method=None,\n",
       "                                                 validate_parameters=None,\n",
       "                                                 verbosity=None)]},\n",
       "             scoring='recall')"
      ]
     },
     "execution_count": 21,
     "metadata": {},
     "output_type": "execute_result"
    }
   ],
   "source": [
    "hyperparam_space={'balancing':[smote,nearmiss],\n",
    "                 'model':[logreg,tree,knn,rf,xgb]}\n",
    "\n",
    "grid_search= GridSearchCV(estimator_balance,\n",
    "    param_grid= hyperparam_space,\n",
    "    cv=skfold,\n",
    "    n_jobs=-1,\n",
    "    scoring='recall')\n",
    "grid_search.fit(x_train,y_train)"
   ]
  },
  {
   "cell_type": "code",
   "execution_count": 22,
   "id": "effective-tuition",
   "metadata": {},
   "outputs": [
    {
     "data": {
      "text/html": [
       "<div>\n",
       "<style scoped>\n",
       "    .dataframe tbody tr th:only-of-type {\n",
       "        vertical-align: middle;\n",
       "    }\n",
       "\n",
       "    .dataframe tbody tr th {\n",
       "        vertical-align: top;\n",
       "    }\n",
       "\n",
       "    .dataframe thead th {\n",
       "        text-align: right;\n",
       "    }\n",
       "</style>\n",
       "<table border=\"1\" class=\"dataframe\">\n",
       "  <thead>\n",
       "    <tr style=\"text-align: right;\">\n",
       "      <th></th>\n",
       "      <th>mean_fit_time</th>\n",
       "      <th>std_fit_time</th>\n",
       "      <th>mean_score_time</th>\n",
       "      <th>std_score_time</th>\n",
       "      <th>param_balancing</th>\n",
       "      <th>param_model</th>\n",
       "      <th>params</th>\n",
       "      <th>split0_test_score</th>\n",
       "      <th>split1_test_score</th>\n",
       "      <th>split2_test_score</th>\n",
       "      <th>split3_test_score</th>\n",
       "      <th>split4_test_score</th>\n",
       "      <th>mean_test_score</th>\n",
       "      <th>std_test_score</th>\n",
       "      <th>rank_test_score</th>\n",
       "    </tr>\n",
       "  </thead>\n",
       "  <tbody>\n",
       "    <tr>\n",
       "      <th>0</th>\n",
       "      <td>0.234192</td>\n",
       "      <td>0.074414</td>\n",
       "      <td>0.023047</td>\n",
       "      <td>0.004774</td>\n",
       "      <td>SMOTE(random_state=42)</td>\n",
       "      <td>LogisticRegression(max_iter=10000)</td>\n",
       "      <td>{'balancing': SMOTE(random_state=42), 'model':...</td>\n",
       "      <td>0.759542</td>\n",
       "      <td>0.832061</td>\n",
       "      <td>0.839695</td>\n",
       "      <td>0.793103</td>\n",
       "      <td>0.766284</td>\n",
       "      <td>0.798137</td>\n",
       "      <td>0.032886</td>\n",
       "      <td>4</td>\n",
       "    </tr>\n",
       "    <tr>\n",
       "      <th>1</th>\n",
       "      <td>0.138323</td>\n",
       "      <td>0.021503</td>\n",
       "      <td>0.025237</td>\n",
       "      <td>0.003056</td>\n",
       "      <td>SMOTE(random_state=42)</td>\n",
       "      <td>DecisionTreeClassifier(max_depth=3, random_sta...</td>\n",
       "      <td>{'balancing': SMOTE(random_state=42), 'model':...</td>\n",
       "      <td>0.877863</td>\n",
       "      <td>0.874046</td>\n",
       "      <td>0.904580</td>\n",
       "      <td>0.915709</td>\n",
       "      <td>0.858238</td>\n",
       "      <td>0.886087</td>\n",
       "      <td>0.021013</td>\n",
       "      <td>2</td>\n",
       "    </tr>\n",
       "    <tr>\n",
       "      <th>2</th>\n",
       "      <td>0.188576</td>\n",
       "      <td>0.035267</td>\n",
       "      <td>0.335159</td>\n",
       "      <td>0.023353</td>\n",
       "      <td>SMOTE(random_state=42)</td>\n",
       "      <td>KNeighborsClassifier(n_neighbors=2)</td>\n",
       "      <td>{'balancing': SMOTE(random_state=42), 'model':...</td>\n",
       "      <td>0.469466</td>\n",
       "      <td>0.461832</td>\n",
       "      <td>0.503817</td>\n",
       "      <td>0.478927</td>\n",
       "      <td>0.463602</td>\n",
       "      <td>0.475529</td>\n",
       "      <td>0.015352</td>\n",
       "      <td>9</td>\n",
       "    </tr>\n",
       "    <tr>\n",
       "      <th>3</th>\n",
       "      <td>0.339330</td>\n",
       "      <td>0.058412</td>\n",
       "      <td>0.024205</td>\n",
       "      <td>0.002830</td>\n",
       "      <td>SMOTE(random_state=42)</td>\n",
       "      <td>RandomForestClassifier(max_depth=3, max_featur...</td>\n",
       "      <td>{'balancing': SMOTE(random_state=42), 'model':...</td>\n",
       "      <td>0.748092</td>\n",
       "      <td>0.812977</td>\n",
       "      <td>0.828244</td>\n",
       "      <td>0.804598</td>\n",
       "      <td>0.750958</td>\n",
       "      <td>0.788974</td>\n",
       "      <td>0.033103</td>\n",
       "      <td>5</td>\n",
       "    </tr>\n",
       "    <tr>\n",
       "      <th>4</th>\n",
       "      <td>4.014078</td>\n",
       "      <td>0.469012</td>\n",
       "      <td>0.035027</td>\n",
       "      <td>0.006438</td>\n",
       "      <td>SMOTE(random_state=42)</td>\n",
       "      <td>XGBClassifier(base_score=None, booster=None, c...</td>\n",
       "      <td>{'balancing': SMOTE(random_state=42), 'model':...</td>\n",
       "      <td>0.583969</td>\n",
       "      <td>0.652672</td>\n",
       "      <td>0.637405</td>\n",
       "      <td>0.681992</td>\n",
       "      <td>0.651341</td>\n",
       "      <td>0.641476</td>\n",
       "      <td>0.032211</td>\n",
       "      <td>8</td>\n",
       "    </tr>\n",
       "    <tr>\n",
       "      <th>5</th>\n",
       "      <td>0.596911</td>\n",
       "      <td>0.114650</td>\n",
       "      <td>0.026338</td>\n",
       "      <td>0.004108</td>\n",
       "      <td>NearMiss()</td>\n",
       "      <td>LogisticRegression(max_iter=10000)</td>\n",
       "      <td>{'balancing': NearMiss(), 'model': LogisticReg...</td>\n",
       "      <td>0.797710</td>\n",
       "      <td>0.793893</td>\n",
       "      <td>0.790076</td>\n",
       "      <td>0.781609</td>\n",
       "      <td>0.754789</td>\n",
       "      <td>0.783616</td>\n",
       "      <td>0.015369</td>\n",
       "      <td>6</td>\n",
       "    </tr>\n",
       "    <tr>\n",
       "      <th>6</th>\n",
       "      <td>0.226606</td>\n",
       "      <td>0.048906</td>\n",
       "      <td>0.041726</td>\n",
       "      <td>0.015942</td>\n",
       "      <td>NearMiss()</td>\n",
       "      <td>DecisionTreeClassifier(max_depth=3, random_sta...</td>\n",
       "      <td>{'balancing': NearMiss(), 'model': DecisionTre...</td>\n",
       "      <td>0.912214</td>\n",
       "      <td>0.954198</td>\n",
       "      <td>0.702290</td>\n",
       "      <td>0.911877</td>\n",
       "      <td>0.892720</td>\n",
       "      <td>0.874660</td>\n",
       "      <td>0.088498</td>\n",
       "      <td>3</td>\n",
       "    </tr>\n",
       "    <tr>\n",
       "      <th>7</th>\n",
       "      <td>0.275765</td>\n",
       "      <td>0.013641</td>\n",
       "      <td>0.177109</td>\n",
       "      <td>0.050302</td>\n",
       "      <td>NearMiss()</td>\n",
       "      <td>KNeighborsClassifier(n_neighbors=2)</td>\n",
       "      <td>{'balancing': NearMiss(), 'model': KNeighborsC...</td>\n",
       "      <td>0.408397</td>\n",
       "      <td>0.370229</td>\n",
       "      <td>0.332061</td>\n",
       "      <td>0.394636</td>\n",
       "      <td>0.352490</td>\n",
       "      <td>0.371563</td>\n",
       "      <td>0.027623</td>\n",
       "      <td>10</td>\n",
       "    </tr>\n",
       "    <tr>\n",
       "      <th>8</th>\n",
       "      <td>0.266351</td>\n",
       "      <td>0.031578</td>\n",
       "      <td>0.027854</td>\n",
       "      <td>0.001808</td>\n",
       "      <td>NearMiss()</td>\n",
       "      <td>RandomForestClassifier(max_depth=3, max_featur...</td>\n",
       "      <td>{'balancing': NearMiss(), 'model': RandomFores...</td>\n",
       "      <td>0.931298</td>\n",
       "      <td>0.946565</td>\n",
       "      <td>0.950382</td>\n",
       "      <td>0.923372</td>\n",
       "      <td>0.915709</td>\n",
       "      <td>0.933465</td>\n",
       "      <td>0.013264</td>\n",
       "      <td>1</td>\n",
       "    </tr>\n",
       "    <tr>\n",
       "      <th>9</th>\n",
       "      <td>1.658244</td>\n",
       "      <td>0.434949</td>\n",
       "      <td>0.026380</td>\n",
       "      <td>0.004568</td>\n",
       "      <td>NearMiss()</td>\n",
       "      <td>XGBClassifier(base_score=None, booster=None, c...</td>\n",
       "      <td>{'balancing': NearMiss(), 'model': XGBClassifi...</td>\n",
       "      <td>0.744275</td>\n",
       "      <td>0.820611</td>\n",
       "      <td>0.729008</td>\n",
       "      <td>0.747126</td>\n",
       "      <td>0.777778</td>\n",
       "      <td>0.763759</td>\n",
       "      <td>0.032535</td>\n",
       "      <td>7</td>\n",
       "    </tr>\n",
       "  </tbody>\n",
       "</table>\n",
       "</div>"
      ],
      "text/plain": [
       "   mean_fit_time  std_fit_time  mean_score_time  std_score_time  \\\n",
       "0       0.234192      0.074414         0.023047        0.004774   \n",
       "1       0.138323      0.021503         0.025237        0.003056   \n",
       "2       0.188576      0.035267         0.335159        0.023353   \n",
       "3       0.339330      0.058412         0.024205        0.002830   \n",
       "4       4.014078      0.469012         0.035027        0.006438   \n",
       "5       0.596911      0.114650         0.026338        0.004108   \n",
       "6       0.226606      0.048906         0.041726        0.015942   \n",
       "7       0.275765      0.013641         0.177109        0.050302   \n",
       "8       0.266351      0.031578         0.027854        0.001808   \n",
       "9       1.658244      0.434949         0.026380        0.004568   \n",
       "\n",
       "          param_balancing                                        param_model  \\\n",
       "0  SMOTE(random_state=42)                 LogisticRegression(max_iter=10000)   \n",
       "1  SMOTE(random_state=42)  DecisionTreeClassifier(max_depth=3, random_sta...   \n",
       "2  SMOTE(random_state=42)                KNeighborsClassifier(n_neighbors=2)   \n",
       "3  SMOTE(random_state=42)  RandomForestClassifier(max_depth=3, max_featur...   \n",
       "4  SMOTE(random_state=42)  XGBClassifier(base_score=None, booster=None, c...   \n",
       "5              NearMiss()                 LogisticRegression(max_iter=10000)   \n",
       "6              NearMiss()  DecisionTreeClassifier(max_depth=3, random_sta...   \n",
       "7              NearMiss()                KNeighborsClassifier(n_neighbors=2)   \n",
       "8              NearMiss()  RandomForestClassifier(max_depth=3, max_featur...   \n",
       "9              NearMiss()  XGBClassifier(base_score=None, booster=None, c...   \n",
       "\n",
       "                                              params  split0_test_score  \\\n",
       "0  {'balancing': SMOTE(random_state=42), 'model':...           0.759542   \n",
       "1  {'balancing': SMOTE(random_state=42), 'model':...           0.877863   \n",
       "2  {'balancing': SMOTE(random_state=42), 'model':...           0.469466   \n",
       "3  {'balancing': SMOTE(random_state=42), 'model':...           0.748092   \n",
       "4  {'balancing': SMOTE(random_state=42), 'model':...           0.583969   \n",
       "5  {'balancing': NearMiss(), 'model': LogisticReg...           0.797710   \n",
       "6  {'balancing': NearMiss(), 'model': DecisionTre...           0.912214   \n",
       "7  {'balancing': NearMiss(), 'model': KNeighborsC...           0.408397   \n",
       "8  {'balancing': NearMiss(), 'model': RandomFores...           0.931298   \n",
       "9  {'balancing': NearMiss(), 'model': XGBClassifi...           0.744275   \n",
       "\n",
       "   split1_test_score  split2_test_score  split3_test_score  split4_test_score  \\\n",
       "0           0.832061           0.839695           0.793103           0.766284   \n",
       "1           0.874046           0.904580           0.915709           0.858238   \n",
       "2           0.461832           0.503817           0.478927           0.463602   \n",
       "3           0.812977           0.828244           0.804598           0.750958   \n",
       "4           0.652672           0.637405           0.681992           0.651341   \n",
       "5           0.793893           0.790076           0.781609           0.754789   \n",
       "6           0.954198           0.702290           0.911877           0.892720   \n",
       "7           0.370229           0.332061           0.394636           0.352490   \n",
       "8           0.946565           0.950382           0.923372           0.915709   \n",
       "9           0.820611           0.729008           0.747126           0.777778   \n",
       "\n",
       "   mean_test_score  std_test_score  rank_test_score  \n",
       "0         0.798137        0.032886                4  \n",
       "1         0.886087        0.021013                2  \n",
       "2         0.475529        0.015352                9  \n",
       "3         0.788974        0.033103                5  \n",
       "4         0.641476        0.032211                8  \n",
       "5         0.783616        0.015369                6  \n",
       "6         0.874660        0.088498                3  \n",
       "7         0.371563        0.027623               10  \n",
       "8         0.933465        0.013264                1  \n",
       "9         0.763759        0.032535                7  "
      ]
     },
     "execution_count": 22,
     "metadata": {},
     "output_type": "execute_result"
    }
   ],
   "source": [
    "pd.DataFrame(grid_search.cv_results_)"
   ]
  },
  {
   "cell_type": "code",
   "execution_count": 23,
   "id": "musical-interview",
   "metadata": {},
   "outputs": [
    {
     "name": "stdout",
     "output_type": "stream",
     "text": [
      "Best score:  0.9334649469158551\n",
      "Best model:  {'balancing': NearMiss(), 'model': RandomForestClassifier(max_depth=3, max_features=4, n_estimators=20)}\n"
     ]
    }
   ],
   "source": [
    "print('Best score: ',grid_search.best_score_)\n",
    "print('Best model: ',grid_search.best_params_)"
   ]
  },
  {
   "cell_type": "markdown",
   "id": "fundamental-promotion",
   "metadata": {},
   "source": [
    "#### Algorithm-Based Method"
   ]
  },
  {
   "cell_type": "code",
   "execution_count": 24,
   "id": "closing-scroll",
   "metadata": {},
   "outputs": [],
   "source": [
    "algo = [\n",
    "    ['Log Regression', LogisticRegression(max_iter=10000, class_weight='balanced')],\n",
    "    ['DecisionTree', DecisionTreeClassifier(max_depth=3,random_state=42, class_weight='balanced')],\n",
    "    ['Random Forest', RandomForestClassifier(max_depth = 3, n_estimators = 20, max_features = 4, class_weight='balanced')]\n",
    "]"
   ]
  },
  {
   "cell_type": "code",
   "execution_count": 25,
   "id": "framed-passing",
   "metadata": {},
   "outputs": [
    {
     "data": {
      "text/html": [
       "<div>\n",
       "<style scoped>\n",
       "    .dataframe tbody tr th:only-of-type {\n",
       "        vertical-align: middle;\n",
       "    }\n",
       "\n",
       "    .dataframe tbody tr th {\n",
       "        vertical-align: top;\n",
       "    }\n",
       "\n",
       "    .dataframe thead th {\n",
       "        text-align: right;\n",
       "    }\n",
       "</style>\n",
       "<table border=\"1\" class=\"dataframe\">\n",
       "  <thead>\n",
       "    <tr style=\"text-align: right;\">\n",
       "      <th></th>\n",
       "      <th>Name</th>\n",
       "      <th>score</th>\n",
       "      <th>score_std</th>\n",
       "    </tr>\n",
       "  </thead>\n",
       "  <tbody>\n",
       "    <tr>\n",
       "      <th>0</th>\n",
       "      <td>Log Regression</td>\n",
       "      <td>0.810365</td>\n",
       "      <td>0.032113</td>\n",
       "    </tr>\n",
       "    <tr>\n",
       "      <th>1</th>\n",
       "      <td>DecisionTree</td>\n",
       "      <td>0.886087</td>\n",
       "      <td>0.021013</td>\n",
       "    </tr>\n",
       "    <tr>\n",
       "      <th>2</th>\n",
       "      <td>Random Forest</td>\n",
       "      <td>0.808090</td>\n",
       "      <td>0.028647</td>\n",
       "    </tr>\n",
       "  </tbody>\n",
       "</table>\n",
       "</div>"
      ],
      "text/plain": [
       "             Name     score  score_std\n",
       "0  Log Regression  0.810365   0.032113\n",
       "1    DecisionTree  0.886087   0.021013\n",
       "2   Random Forest  0.808090   0.028647"
      ]
     },
     "execution_count": 25,
     "metadata": {},
     "output_type": "execute_result"
    }
   ],
   "source": [
    "evaluate(algo)"
   ]
  },
  {
   "cell_type": "markdown",
   "id": "victorian-steering",
   "metadata": {},
   "source": [
    ">Model cross validation using imbalance dataset handling cause the score in most of the models goes up significantly. Before imbalance data handling, the cross validation score in the models are around 0.3 - 0.5. After imbalance data handling, the score in most of the models are around 0.7 - 0.9. From both resampling and algorithm-based methods, model with the best performance score with lowest standard deviation score observed is RandomForest with resampling NearMiss method (0.93). Therefore, the model chosen for this dataset is RandomForest with resampling NearMiss method."
   ]
  },
  {
   "cell_type": "markdown",
   "id": "removed-bunny",
   "metadata": {},
   "source": [
    "## Hyperparameter Tuning"
   ]
  },
  {
   "cell_type": "code",
   "execution_count": 27,
   "id": "accompanied-strap",
   "metadata": {},
   "outputs": [],
   "source": [
    "#Model\n",
    "rf = RandomForestClassifier(max_depth = 3, n_estimators = 20, max_features = 4)\n",
    "nearmiss = NearMiss()\n",
    "estimator_balance = Pipeline([('transformer', transformer), ('balancing', nearmiss), ('model', rf)])"
   ]
  },
  {
   "cell_type": "markdown",
   "id": "freelance-penny",
   "metadata": {},
   "source": [
    "Parameters used in hyperparameter tuning: \n",
    "1. Near Miss Parameter:\n",
    "   - n_neighbors : size of the neighbourhood to consider to compute the average distance to the minority point samples.\n",
    "2. Random Forest Parameter:\n",
    "   - n_estimators: the number of trees in the forest.\n",
    "   - max_features: the number of features to consider when looking for the best split. If “auto”, then max_features = sqrt(n_features).\n",
    "   - max_depth: the maximum depth of the tree.\n",
    "   - criterion: the function to measure the quality of a split. Supported criteria are “gini” for the Gini impurity and “entropy” for the information gain.\n",
    "   - bootstrap: whether bootstrap samples are used when building trees. If False, the whole dataset is used to build each tree."
   ]
  },
  {
   "cell_type": "code",
   "execution_count": 28,
   "id": "unlike-least",
   "metadata": {},
   "outputs": [],
   "source": [
    "hyperparam_space = {\n",
    "    'balancing__n_neighbors': [2,5,10,15,20],\n",
    "    'model__n_estimators' : [10,20,100,200],\n",
    "    'model__max_depth' : np.arange(3,13,2),\n",
    "    'model__max_features' : ['auto',2,4,6,8],\n",
    "    'model__criterion': ['gini','entropy'],\n",
    "    'model__bootstrap': [True,False]\n",
    "}"
   ]
  },
  {
   "cell_type": "code",
   "execution_count": 29,
   "id": "divine-buyer",
   "metadata": {},
   "outputs": [
    {
     "data": {
      "text/plain": [
       "GridSearchCV(cv=StratifiedKFold(n_splits=5, random_state=None, shuffle=False),\n",
       "             estimator=Pipeline(steps=[('transformer',\n",
       "                                        ColumnTransformer(remainder='passthrough',\n",
       "                                                          transformers=[('one '\n",
       "                                                                         'hot',\n",
       "                                                                         OneHotEncoder(drop='first'),\n",
       "                                                                         ['Gender',\n",
       "                                                                          'Partner',\n",
       "                                                                          'Dependents',\n",
       "                                                                          'PhoneService',\n",
       "                                                                          'MultipleLines',\n",
       "                                                                          'InternetService',\n",
       "                                                                          'OnlineSecurity',\n",
       "                                                                          'OnlineBackup',\n",
       "                                                                          'DeviceProtection',\n",
       "                                                                          'Tec...\n",
       "                                       ('balancing', NearMiss()),\n",
       "                                       ('model',\n",
       "                                        RandomForestClassifier(max_depth=3,\n",
       "                                                               max_features=4,\n",
       "                                                               n_estimators=20))]),\n",
       "             n_jobs=-1,\n",
       "             param_grid={'balancing__n_neighbors': [2, 5, 10, 15, 20],\n",
       "                         'model__bootstrap': [True, False],\n",
       "                         'model__criterion': ['gini', 'entropy'],\n",
       "                         'model__max_depth': array([ 3,  5,  7,  9, 11]),\n",
       "                         'model__max_features': ['auto', 2, 4, 6, 8],\n",
       "                         'model__n_estimators': [10, 20, 100, 200]},\n",
       "             scoring='recall')"
      ]
     },
     "execution_count": 29,
     "metadata": {},
     "output_type": "execute_result"
    }
   ],
   "source": [
    "skfold = StratifiedKFold(n_splits=5)\n",
    "grid_search = GridSearchCV(\n",
    "    estimator_balance,\n",
    "    param_grid=hyperparam_space,\n",
    "    cv=skfold,\n",
    "    scoring='recall',\n",
    "    n_jobs=-1\n",
    ")\n",
    "grid_search.fit(x_train,y_train)"
   ]
  },
  {
   "cell_type": "code",
   "execution_count": 30,
   "id": "appointed-saint",
   "metadata": {},
   "outputs": [
    {
     "name": "stdout",
     "output_type": "stream",
     "text": [
      "Best Score: 0.9449475008043052\n",
      "Best Param: {'balancing__n_neighbors': 15, 'model__bootstrap': False, 'model__criterion': 'entropy', 'model__max_depth': 3, 'model__max_features': 'auto', 'model__n_estimators': 10}\n"
     ]
    }
   ],
   "source": [
    "print('Best Score: {}'.format(grid_search.best_score_))\n",
    "print('Best Param: {}'.format(grid_search.best_params_))"
   ]
  },
  {
   "cell_type": "markdown",
   "id": "norman-abortion",
   "metadata": {},
   "source": [
    "### Before Tuning"
   ]
  },
  {
   "cell_type": "code",
   "execution_count": 102,
   "id": "collect-morocco",
   "metadata": {},
   "outputs": [],
   "source": [
    "#Model\n",
    "rf = RandomForestClassifier(max_depth = 3, n_estimators = 20, max_features = 4)\n",
    "nearmiss = NearMiss()\n",
    "estimator_balance = Pipeline([('transformer', transformer), ('balancing', nearmiss), ('model', rf)])"
   ]
  },
  {
   "cell_type": "code",
   "execution_count": 103,
   "id": "native-article",
   "metadata": {},
   "outputs": [
    {
     "name": "stdout",
     "output_type": "stream",
     "text": [
      "              precision    recall  f1-score   support\n",
      "\n",
      "           0       0.92      0.31      0.46      1549\n",
      "           1       0.33      0.93      0.48       561\n",
      "\n",
      "    accuracy                           0.47      2110\n",
      "   macro avg       0.62      0.62      0.47      2110\n",
      "weighted avg       0.76      0.47      0.47      2110\n",
      "\n"
     ]
    }
   ],
   "source": [
    "estimator_balance.fit(x_train,y_train)\n",
    "y_pred = estimator_balance.predict(x_test)\n",
    "print(classification_report(y_test,y_pred))"
   ]
  },
  {
   "cell_type": "code",
   "execution_count": 104,
   "id": "standing-volleyball",
   "metadata": {},
   "outputs": [
    {
     "data": {
      "text/plain": [
       "<sklearn.metrics._plot.precision_recall_curve.PrecisionRecallDisplay at 0x7ff02b51cbb0>"
      ]
     },
     "execution_count": 104,
     "metadata": {},
     "output_type": "execute_result"
    },
    {
     "data": {
      "image/png": "[encoded data removed]",
      "text/plain": [
       "<Figure size 432x288 with 1 Axes>"
      ]
     },
     "metadata": {
      "needs_background": "light"
     },
     "output_type": "display_data"
    }
   ],
   "source": [
    "plot_precision_recall_curve(estimator_balance,x_test,y_test)"
   ]
  },
  {
   "cell_type": "code",
   "execution_count": 105,
   "id": "dressed-brook",
   "metadata": {},
   "outputs": [
    {
     "name": "stdout",
     "output_type": "stream",
     "text": [
      "tn :  481  fp :  1068  fn :  42  tp :  519\n"
     ]
    },
    {
     "data": {
      "text/plain": [
       "<AxesSubplot:>"
      ]
     },
     "execution_count": 105,
     "metadata": {},
     "output_type": "execute_result"
    },
    {
     "data": {
      "image/png": "[encoded data removed]",
      "text/plain": [
       "<Figure size 432x288 with 2 Axes>"
      ]
     },
     "metadata": {
      "needs_background": "light"
     },
     "output_type": "display_data"
    }
   ],
   "source": [
    "tn, fp, fn, tp = confusion_matrix(y_test,y_pred).ravel()\n",
    "print('tn : ',tn, ' fp : ',fp,' fn : ' ,fn,' tp : ' ,tp)\n",
    "sns.heatmap(confusion_matrix(y_test,y_pred), annot = True, fmt = 'd')"
   ]
  },
  {
   "cell_type": "markdown",
   "id": "external-outside",
   "metadata": {},
   "source": [
    "### After Tuning"
   ]
  },
  {
   "cell_type": "code",
   "execution_count": 35,
   "id": "powerful-increase",
   "metadata": {},
   "outputs": [
    {
     "name": "stdout",
     "output_type": "stream",
     "text": [
      "              precision    recall  f1-score   support\n",
      "\n",
      "           0       0.91      0.26      0.41      1549\n",
      "           1       0.31      0.93      0.47       561\n",
      "\n",
      "    accuracy                           0.44      2110\n",
      "   macro avg       0.61      0.60      0.44      2110\n",
      "weighted avg       0.75      0.44      0.42      2110\n",
      "\n"
     ]
    }
   ],
   "source": [
    "grid_search.best_estimator_.fit(x_train, y_train)\n",
    "y_pred = grid_search.best_estimator_.predict(x_test)\n",
    "print(classification_report(y_test, y_pred))"
   ]
  },
  {
   "cell_type": "code",
   "execution_count": 36,
   "id": "correct-paragraph",
   "metadata": {},
   "outputs": [
    {
     "data": {
      "text/plain": [
       "<sklearn.metrics._plot.precision_recall_curve.PrecisionRecallDisplay at 0x7ff02b109b50>"
      ]
     },
     "execution_count": 36,
     "metadata": {},
     "output_type": "execute_result"
    },
    {
     "data": {
      "image/png": "[encoded data removed]",
      "text/plain": [
       "<Figure size 432x288 with 1 Axes>"
      ]
     },
     "metadata": {
      "needs_background": "light"
     },
     "output_type": "display_data"
    }
   ],
   "source": [
    "plot_precision_recall_curve(grid_search.best_estimator_,x_test,y_test)"
   ]
  },
  {
   "cell_type": "code",
   "execution_count": 101,
   "id": "constant-development",
   "metadata": {},
   "outputs": [
    {
     "name": "stdout",
     "output_type": "stream",
     "text": [
      "tn :  407  fp :  1142  fn :  39  tp :  522\n"
     ]
    },
    {
     "data": {
      "text/plain": [
       "<AxesSubplot:>"
      ]
     },
     "execution_count": 101,
     "metadata": {},
     "output_type": "execute_result"
    },
    {
     "data": {
      "image/png": "[encoded data removed]",
      "text/plain": [
       "<Figure size 432x288 with 2 Axes>"
      ]
     },
     "metadata": {
      "needs_background": "light"
     },
     "output_type": "display_data"
    }
   ],
   "source": [
    "tn, fp, fn, tp = confusion_matrix(y_test,y_pred).ravel()\n",
    "print('tn : ',tn, ' fp : ',fp,' fn : ' ,fn,' tp : ' ,tp)\n",
    "sns.heatmap(confusion_matrix(y_test,y_pred), annot = True, fmt = 'd')"
   ]
  },
  {
   "cell_type": "markdown",
   "id": "mexican-crawford",
   "metadata": {},
   "source": [
    ">The recall score itself is already high before hyperparameter tuning. After tuning, the recall score is slightly higher. Looking at the precision-recall curve, hyperparameter tuning lower the weighted-average precision score (AP), making the trade-off of precision and recall extremely high. In this model, we could not find a threshold that satisfy both high precision and recall score. However, my main objective is to correctly detect churned customers therefore I focus only on the high recall score. The confusion matrix results above show that false negative numbers are lower after hyperparameter tuning. Therefore, I chose the model after hyperparameter tuning as the final machine learning model."
   ]
  },
  {
   "cell_type": "markdown",
   "id": "hired-shore",
   "metadata": {},
   "source": [
    "### Feature Importance\n",
    "I run feature importance on the model to check which features matter the most in predicting churn rate in the model."
   ]
  },
  {
   "cell_type": "code",
   "execution_count": 49,
   "id": "honest-modeling",
   "metadata": {},
   "outputs": [],
   "source": [
    "features = list(grid_search.best_estimator_[0].transformers_[0][1].get_feature_names())  + ['SeniorCitizen','Tenure','MonthlyCharges','TotalCharges']"
   ]
  },
  {
   "cell_type": "code",
   "execution_count": 50,
   "id": "final-steam",
   "metadata": {},
   "outputs": [
    {
     "data": {
      "text/html": [
       "<div>\n",
       "<style scoped>\n",
       "    .dataframe tbody tr th:only-of-type {\n",
       "        vertical-align: middle;\n",
       "    }\n",
       "\n",
       "    .dataframe tbody tr th {\n",
       "        vertical-align: top;\n",
       "    }\n",
       "\n",
       "    .dataframe thead th {\n",
       "        text-align: right;\n",
       "    }\n",
       "</style>\n",
       "<table border=\"1\" class=\"dataframe\">\n",
       "  <thead>\n",
       "    <tr style=\"text-align: right;\">\n",
       "      <th></th>\n",
       "      <th>imp</th>\n",
       "    </tr>\n",
       "  </thead>\n",
       "  <tbody>\n",
       "    <tr>\n",
       "      <th>x7_No internet service</th>\n",
       "      <td>0.239564</td>\n",
       "    </tr>\n",
       "    <tr>\n",
       "      <th>x8_No internet service</th>\n",
       "      <td>0.198718</td>\n",
       "    </tr>\n",
       "    <tr>\n",
       "      <th>x11_No internet service</th>\n",
       "      <td>0.087533</td>\n",
       "    </tr>\n",
       "    <tr>\n",
       "      <th>x10_No internet service</th>\n",
       "      <td>0.081837</td>\n",
       "    </tr>\n",
       "    <tr>\n",
       "      <th>x6_No internet service</th>\n",
       "      <td>0.070701</td>\n",
       "    </tr>\n",
       "    <tr>\n",
       "      <th>MonthlyCharges</th>\n",
       "      <td>0.065689</td>\n",
       "    </tr>\n",
       "    <tr>\n",
       "      <th>SeniorCitizen</th>\n",
       "      <td>0.048486</td>\n",
       "    </tr>\n",
       "    <tr>\n",
       "      <th>x5_Fiber optic</th>\n",
       "      <td>0.043852</td>\n",
       "    </tr>\n",
       "    <tr>\n",
       "      <th>x9_No internet service</th>\n",
       "      <td>0.041292</td>\n",
       "    </tr>\n",
       "    <tr>\n",
       "      <th>x13_Mailed check</th>\n",
       "      <td>0.031728</td>\n",
       "    </tr>\n",
       "    <tr>\n",
       "      <th>Tenure</th>\n",
       "      <td>0.027983</td>\n",
       "    </tr>\n",
       "    <tr>\n",
       "      <th>x11_Yes</th>\n",
       "      <td>0.022255</td>\n",
       "    </tr>\n",
       "    <tr>\n",
       "      <th>x8_Yes</th>\n",
       "      <td>0.009388</td>\n",
       "    </tr>\n",
       "    <tr>\n",
       "      <th>x10_Yes</th>\n",
       "      <td>0.008886</td>\n",
       "    </tr>\n",
       "    <tr>\n",
       "      <th>x12_One year</th>\n",
       "      <td>0.005620</td>\n",
       "    </tr>\n",
       "    <tr>\n",
       "      <th>x4_No phone service</th>\n",
       "      <td>0.004423</td>\n",
       "    </tr>\n",
       "    <tr>\n",
       "      <th>x14_Yes</th>\n",
       "      <td>0.003521</td>\n",
       "    </tr>\n",
       "    <tr>\n",
       "      <th>x7_Yes</th>\n",
       "      <td>0.002483</td>\n",
       "    </tr>\n",
       "    <tr>\n",
       "      <th>x13_Credit card (automatic)</th>\n",
       "      <td>0.001383</td>\n",
       "    </tr>\n",
       "    <tr>\n",
       "      <th>TotalCharges</th>\n",
       "      <td>0.001193</td>\n",
       "    </tr>\n",
       "    <tr>\n",
       "      <th>x4_Yes</th>\n",
       "      <td>0.000943</td>\n",
       "    </tr>\n",
       "    <tr>\n",
       "      <th>x12_Two year</th>\n",
       "      <td>0.000901</td>\n",
       "    </tr>\n",
       "    <tr>\n",
       "      <th>x2_Yes</th>\n",
       "      <td>0.000898</td>\n",
       "    </tr>\n",
       "    <tr>\n",
       "      <th>x6_Yes</th>\n",
       "      <td>0.000722</td>\n",
       "    </tr>\n",
       "    <tr>\n",
       "      <th>x0_Male</th>\n",
       "      <td>0.000000</td>\n",
       "    </tr>\n",
       "    <tr>\n",
       "      <th>x13_Electronic check</th>\n",
       "      <td>0.000000</td>\n",
       "    </tr>\n",
       "    <tr>\n",
       "      <th>x1_Yes</th>\n",
       "      <td>0.000000</td>\n",
       "    </tr>\n",
       "    <tr>\n",
       "      <th>x5_No</th>\n",
       "      <td>0.000000</td>\n",
       "    </tr>\n",
       "    <tr>\n",
       "      <th>x3_Yes</th>\n",
       "      <td>0.000000</td>\n",
       "    </tr>\n",
       "    <tr>\n",
       "      <th>x9_Yes</th>\n",
       "      <td>0.000000</td>\n",
       "    </tr>\n",
       "  </tbody>\n",
       "</table>\n",
       "</div>"
      ],
      "text/plain": [
       "                                  imp\n",
       "x7_No internet service       0.239564\n",
       "x8_No internet service       0.198718\n",
       "x11_No internet service      0.087533\n",
       "x10_No internet service      0.081837\n",
       "x6_No internet service       0.070701\n",
       "MonthlyCharges               0.065689\n",
       "SeniorCitizen                0.048486\n",
       "x5_Fiber optic               0.043852\n",
       "x9_No internet service       0.041292\n",
       "x13_Mailed check             0.031728\n",
       "Tenure                       0.027983\n",
       "x11_Yes                      0.022255\n",
       "x8_Yes                       0.009388\n",
       "x10_Yes                      0.008886\n",
       "x12_One year                 0.005620\n",
       "x4_No phone service          0.004423\n",
       "x14_Yes                      0.003521\n",
       "x7_Yes                       0.002483\n",
       "x13_Credit card (automatic)  0.001383\n",
       "TotalCharges                 0.001193\n",
       "x4_Yes                       0.000943\n",
       "x12_Two year                 0.000901\n",
       "x2_Yes                       0.000898\n",
       "x6_Yes                       0.000722\n",
       "x0_Male                      0.000000\n",
       "x13_Electronic check         0.000000\n",
       "x1_Yes                       0.000000\n",
       "x5_No                        0.000000\n",
       "x3_Yes                       0.000000\n",
       "x9_Yes                       0.000000"
      ]
     },
     "execution_count": 50,
     "metadata": {},
     "output_type": "execute_result"
    }
   ],
   "source": [
    "importance_tab = pd.DataFrame(grid_search.best_estimator_[2].feature_importances_, columns = ['imp'],index = features)\n",
    "\n",
    "importance_tab.sort_values(by = 'imp', ascending = False)"
   ]
  },
  {
   "cell_type": "code",
   "execution_count": 51,
   "id": "amended-wednesday",
   "metadata": {},
   "outputs": [
    {
     "data": {
      "text/plain": [
       "<AxesSubplot:>"
      ]
     },
     "execution_count": 51,
     "metadata": {},
     "output_type": "execute_result"
    },
    {
     "data": {
      "image/png": "[encoded data removed]",
      "text/plain": [
       "<Figure size 720x1080 with 1 Axes>"
      ]
     },
     "metadata": {
      "needs_background": "light"
     },
     "output_type": "display_data"
    }
   ],
   "source": [
    "importance_tab.sort_values('imp').plot(kind = 'barh', figsize=(10,15))"
   ]
  },
  {
   "cell_type": "markdown",
   "id": "silent-plain",
   "metadata": {},
   "source": [
    " Note:\n",
    " - x0 = Gender\n",
    " - x1 = Partner\n",
    " - x2 = Dependents\n",
    " - x3 = PhoneService\n",
    " - x4 = MultipleLines\n",
    " - x5 = InternetService\n",
    " - x6 = OnlineSecurity\n",
    " - x7 = OnlineBackup\n",
    " - x8 = DeviceProtection\n",
    " - x9 = TechSupport\n",
    " - x10 = StreamingTV\n",
    " - x11 = StreamingMovies\n",
    " - x12 = Contract\n",
    " - x13 = PaymentMethod\n",
    " - x14 = PaperlessBilling"
   ]
  },
  {
   "cell_type": "markdown",
   "id": "intense-scheduling",
   "metadata": {},
   "source": [
    "> The visualization above have shown that the 10 most important features in this dataset are: OnlineBackup, DeviceProtection, StreamingMovies, StreamingTV, OnlineSecurity, MonthlyCharges, SeniorCitizen, InternetService, TechSupport, and PaymentMethod. This means the features that contributes the most to predicting churn rate are mostly the additional internet services, along with monthly charges and payment method. SeniorCitizen is the demographic feature that contributes the most to predicting churn rate. Using the final model, I will fit the model with feature selection dataset which only contains 10 aforementioned features to see whether the recall score stays the same. If the score stays the same, I only need those 10 selected features for the final machine learning model. "
   ]
  },
  {
   "cell_type": "markdown",
   "id": "third-instrumentation",
   "metadata": {},
   "source": [
    "## Fitting Model with Dataset containing Feature Selection \n",
    "### The New Dataset"
   ]
  },
  {
   "cell_type": "code",
   "execution_count": 73,
   "id": "parallel-college",
   "metadata": {},
   "outputs": [
    {
     "data": {
      "text/html": [
       "<div>\n",
       "<style scoped>\n",
       "    .dataframe tbody tr th:only-of-type {\n",
       "        vertical-align: middle;\n",
       "    }\n",
       "\n",
       "    .dataframe tbody tr th {\n",
       "        vertical-align: top;\n",
       "    }\n",
       "\n",
       "    .dataframe thead th {\n",
       "        text-align: right;\n",
       "    }\n",
       "</style>\n",
       "<table border=\"1\" class=\"dataframe\">\n",
       "  <thead>\n",
       "    <tr style=\"text-align: right;\">\n",
       "      <th></th>\n",
       "      <th>CustomerID</th>\n",
       "      <th>SeniorCitizen</th>\n",
       "      <th>InternetService</th>\n",
       "      <th>OnlineSecurity</th>\n",
       "      <th>OnlineBackup</th>\n",
       "      <th>DeviceProtection</th>\n",
       "      <th>TechSupport</th>\n",
       "      <th>StreamingTV</th>\n",
       "      <th>StreamingMovies</th>\n",
       "      <th>PaymentMethod</th>\n",
       "      <th>MonthlyCharges</th>\n",
       "      <th>Churn</th>\n",
       "    </tr>\n",
       "  </thead>\n",
       "  <tbody>\n",
       "    <tr>\n",
       "      <th>0</th>\n",
       "      <td>7590-VHVEG</td>\n",
       "      <td>0</td>\n",
       "      <td>DSL</td>\n",
       "      <td>No</td>\n",
       "      <td>Yes</td>\n",
       "      <td>No</td>\n",
       "      <td>No</td>\n",
       "      <td>No</td>\n",
       "      <td>No</td>\n",
       "      <td>Electronic check</td>\n",
       "      <td>29.85</td>\n",
       "      <td>0</td>\n",
       "    </tr>\n",
       "    <tr>\n",
       "      <th>1</th>\n",
       "      <td>5575-GNVDE</td>\n",
       "      <td>0</td>\n",
       "      <td>DSL</td>\n",
       "      <td>Yes</td>\n",
       "      <td>No</td>\n",
       "      <td>Yes</td>\n",
       "      <td>No</td>\n",
       "      <td>No</td>\n",
       "      <td>No</td>\n",
       "      <td>Mailed check</td>\n",
       "      <td>56.95</td>\n",
       "      <td>0</td>\n",
       "    </tr>\n",
       "    <tr>\n",
       "      <th>2</th>\n",
       "      <td>3668-QPYBK</td>\n",
       "      <td>0</td>\n",
       "      <td>DSL</td>\n",
       "      <td>Yes</td>\n",
       "      <td>Yes</td>\n",
       "      <td>No</td>\n",
       "      <td>No</td>\n",
       "      <td>No</td>\n",
       "      <td>No</td>\n",
       "      <td>Mailed check</td>\n",
       "      <td>53.85</td>\n",
       "      <td>1</td>\n",
       "    </tr>\n",
       "    <tr>\n",
       "      <th>3</th>\n",
       "      <td>7795-CFOCW</td>\n",
       "      <td>0</td>\n",
       "      <td>DSL</td>\n",
       "      <td>Yes</td>\n",
       "      <td>No</td>\n",
       "      <td>Yes</td>\n",
       "      <td>Yes</td>\n",
       "      <td>No</td>\n",
       "      <td>No</td>\n",
       "      <td>Bank transfer (automatic)</td>\n",
       "      <td>42.30</td>\n",
       "      <td>0</td>\n",
       "    </tr>\n",
       "    <tr>\n",
       "      <th>4</th>\n",
       "      <td>9237-HQITU</td>\n",
       "      <td>0</td>\n",
       "      <td>Fiber optic</td>\n",
       "      <td>No</td>\n",
       "      <td>No</td>\n",
       "      <td>No</td>\n",
       "      <td>No</td>\n",
       "      <td>No</td>\n",
       "      <td>No</td>\n",
       "      <td>Electronic check</td>\n",
       "      <td>70.70</td>\n",
       "      <td>1</td>\n",
       "    </tr>\n",
       "    <tr>\n",
       "      <th>...</th>\n",
       "      <td>...</td>\n",
       "      <td>...</td>\n",
       "      <td>...</td>\n",
       "      <td>...</td>\n",
       "      <td>...</td>\n",
       "      <td>...</td>\n",
       "      <td>...</td>\n",
       "      <td>...</td>\n",
       "      <td>...</td>\n",
       "      <td>...</td>\n",
       "      <td>...</td>\n",
       "      <td>...</td>\n",
       "    </tr>\n",
       "    <tr>\n",
       "      <th>7038</th>\n",
       "      <td>6840-RESVB</td>\n",
       "      <td>0</td>\n",
       "      <td>DSL</td>\n",
       "      <td>Yes</td>\n",
       "      <td>No</td>\n",
       "      <td>Yes</td>\n",
       "      <td>Yes</td>\n",
       "      <td>Yes</td>\n",
       "      <td>Yes</td>\n",
       "      <td>Mailed check</td>\n",
       "      <td>84.80</td>\n",
       "      <td>0</td>\n",
       "    </tr>\n",
       "    <tr>\n",
       "      <th>7039</th>\n",
       "      <td>2234-XADUH</td>\n",
       "      <td>0</td>\n",
       "      <td>Fiber optic</td>\n",
       "      <td>No</td>\n",
       "      <td>Yes</td>\n",
       "      <td>Yes</td>\n",
       "      <td>No</td>\n",
       "      <td>Yes</td>\n",
       "      <td>Yes</td>\n",
       "      <td>Credit card (automatic)</td>\n",
       "      <td>103.20</td>\n",
       "      <td>0</td>\n",
       "    </tr>\n",
       "    <tr>\n",
       "      <th>7040</th>\n",
       "      <td>4801-JZAZL</td>\n",
       "      <td>0</td>\n",
       "      <td>DSL</td>\n",
       "      <td>Yes</td>\n",
       "      <td>No</td>\n",
       "      <td>No</td>\n",
       "      <td>No</td>\n",
       "      <td>No</td>\n",
       "      <td>No</td>\n",
       "      <td>Electronic check</td>\n",
       "      <td>29.60</td>\n",
       "      <td>0</td>\n",
       "    </tr>\n",
       "    <tr>\n",
       "      <th>7041</th>\n",
       "      <td>8361-LTMKD</td>\n",
       "      <td>1</td>\n",
       "      <td>Fiber optic</td>\n",
       "      <td>No</td>\n",
       "      <td>No</td>\n",
       "      <td>No</td>\n",
       "      <td>No</td>\n",
       "      <td>No</td>\n",
       "      <td>No</td>\n",
       "      <td>Mailed check</td>\n",
       "      <td>74.40</td>\n",
       "      <td>1</td>\n",
       "    </tr>\n",
       "    <tr>\n",
       "      <th>7042</th>\n",
       "      <td>3186-AJIEK</td>\n",
       "      <td>0</td>\n",
       "      <td>Fiber optic</td>\n",
       "      <td>Yes</td>\n",
       "      <td>No</td>\n",
       "      <td>Yes</td>\n",
       "      <td>Yes</td>\n",
       "      <td>Yes</td>\n",
       "      <td>Yes</td>\n",
       "      <td>Bank transfer (automatic)</td>\n",
       "      <td>105.65</td>\n",
       "      <td>0</td>\n",
       "    </tr>\n",
       "  </tbody>\n",
       "</table>\n",
       "<p>7032 rows × 12 columns</p>\n",
       "</div>"
      ],
      "text/plain": [
       "      CustomerID  SeniorCitizen InternetService OnlineSecurity OnlineBackup  \\\n",
       "0     7590-VHVEG              0             DSL             No          Yes   \n",
       "1     5575-GNVDE              0             DSL            Yes           No   \n",
       "2     3668-QPYBK              0             DSL            Yes          Yes   \n",
       "3     7795-CFOCW              0             DSL            Yes           No   \n",
       "4     9237-HQITU              0     Fiber optic             No           No   \n",
       "...          ...            ...             ...            ...          ...   \n",
       "7038  6840-RESVB              0             DSL            Yes           No   \n",
       "7039  2234-XADUH              0     Fiber optic             No          Yes   \n",
       "7040  4801-JZAZL              0             DSL            Yes           No   \n",
       "7041  8361-LTMKD              1     Fiber optic             No           No   \n",
       "7042  3186-AJIEK              0     Fiber optic            Yes           No   \n",
       "\n",
       "     DeviceProtection TechSupport StreamingTV StreamingMovies  \\\n",
       "0                  No          No          No              No   \n",
       "1                 Yes          No          No              No   \n",
       "2                  No          No          No              No   \n",
       "3                 Yes         Yes          No              No   \n",
       "4                  No          No          No              No   \n",
       "...               ...         ...         ...             ...   \n",
       "7038              Yes         Yes         Yes             Yes   \n",
       "7039              Yes          No         Yes             Yes   \n",
       "7040               No          No          No              No   \n",
       "7041               No          No          No              No   \n",
       "7042              Yes         Yes         Yes             Yes   \n",
       "\n",
       "                  PaymentMethod  MonthlyCharges  Churn  \n",
       "0              Electronic check           29.85      0  \n",
       "1                  Mailed check           56.95      0  \n",
       "2                  Mailed check           53.85      1  \n",
       "3     Bank transfer (automatic)           42.30      0  \n",
       "4              Electronic check           70.70      1  \n",
       "...                         ...             ...    ...  \n",
       "7038               Mailed check           84.80      0  \n",
       "7039    Credit card (automatic)          103.20      0  \n",
       "7040           Electronic check           29.60      0  \n",
       "7041               Mailed check           74.40      1  \n",
       "7042  Bank transfer (automatic)          105.65      0  \n",
       "\n",
       "[7032 rows x 12 columns]"
      ]
     },
     "execution_count": 73,
     "metadata": {},
     "output_type": "execute_result"
    }
   ],
   "source": [
    "df2 = df.drop(columns = ['Gender','Partner','Dependents','PhoneService','MultipleLines','Contract','PaperlessBilling','TotalCharges','Tenure'] )\n",
    "df2"
   ]
  },
  {
   "cell_type": "markdown",
   "id": "leading-hello",
   "metadata": {},
   "source": [
    "### Data Splitting and Preprocessing  "
   ]
  },
  {
   "cell_type": "code",
   "execution_count": 74,
   "id": "emotional-smith",
   "metadata": {},
   "outputs": [],
   "source": [
    "x2 = df2.drop(columns=['CustomerID','Churn'])\n",
    "y2 = df2['Churn']\n",
    "\n",
    "x2_train, x2_test, y2_train, y2_test = train_test_split(x2, y2, \n",
    "                                                    stratify = y2,\n",
    "                                                    test_size = 0.3,\n",
    "                                                    random_state = 42)"
   ]
  },
  {
   "cell_type": "markdown",
   "id": "surprised-player",
   "metadata": {},
   "source": [
    "Preprocessing Scheme:\n",
    "\n",
    "1. Column removed:\n",
    "    - CustomerID: not relevant to machine learning model building\n",
    "2. OneHot Encoding, done in categorical features which have 2-3 non-ordinal values:\n",
    "    - InternetService\n",
    "    - OnlineSecurity\n",
    "    - OnlineBackup\n",
    "    - DeviceProtection\n",
    "    - TechSupport\n",
    "    - StreamingTV\n",
    "    - StreamingMovies\n",
    "    - PaymentMethod\n",
    "3. StandardScaling, done in numerical features:\n",
    "    - MonthlyCharges\n",
    "4. Passthrough:\n",
    "    - SeniorCitizen"
   ]
  },
  {
   "cell_type": "code",
   "execution_count": 75,
   "id": "configured-constant",
   "metadata": {},
   "outputs": [],
   "source": [
    "transformer2 = ColumnTransformer([\n",
    "    ('one hot', OneHotEncoder(drop = 'first'),['InternetService','OnlineSecurity','OnlineBackup','DeviceProtection','TechSupport','StreamingTV','StreamingMovies','PaymentMethod']),\n",
    "    ('scalling', StandardScaler(),['MonthlyCharges'])\n",
    "], remainder = 'passthrough')"
   ]
  },
  {
   "cell_type": "code",
   "execution_count": 76,
   "id": "nominated-consolidation",
   "metadata": {},
   "outputs": [
    {
     "data": {
      "text/plain": [
       "array([[0.0, 0.0, 0.0, ..., '7590-VHVEG', 0, 0],\n",
       "       [0.0, 0.0, 0.0, ..., '5575-GNVDE', 0, 0],\n",
       "       [0.0, 0.0, 0.0, ..., '3668-QPYBK', 0, 1],\n",
       "       ...,\n",
       "       [0.0, 0.0, 0.0, ..., '4801-JZAZL', 0, 0],\n",
       "       [1.0, 0.0, 0.0, ..., '8361-LTMKD', 1, 1],\n",
       "       [1.0, 0.0, 0.0, ..., '3186-AJIEK', 0, 0]], dtype=object)"
      ]
     },
     "execution_count": 76,
     "metadata": {},
     "output_type": "execute_result"
    }
   ],
   "source": [
    "transformer2.fit_transform(df2)"
   ]
  },
  {
   "cell_type": "markdown",
   "id": "combined-beverage",
   "metadata": {},
   "source": [
    "### Model Fitting and Evaluation"
   ]
  },
  {
   "cell_type": "code",
   "execution_count": 77,
   "id": "approximate-glucose",
   "metadata": {},
   "outputs": [],
   "source": [
    "#Model with Best Hyperparameter\n",
    "rf_fin = RandomForestClassifier(bootstrap = False, criterion ='entropy', max_depth = 3, max_features = 'auto', n_estimators = 10)\n",
    "nearmiss_fin = NearMiss(n_neighbors = 15)\n",
    "estimator_rf_fin = Pipeline([('transformer', transformer2), ('balancing', nearmiss_fin), ('model', rf_fin)])"
   ]
  },
  {
   "cell_type": "code",
   "execution_count": 78,
   "id": "insured-symposium",
   "metadata": {},
   "outputs": [
    {
     "name": "stdout",
     "output_type": "stream",
     "text": [
      "              precision    recall  f1-score   support\n",
      "\n",
      "           0       0.91      0.26      0.40      1549\n",
      "           1       0.31      0.93      0.47       561\n",
      "\n",
      "    accuracy                           0.44      2110\n",
      "   macro avg       0.61      0.59      0.43      2110\n",
      "weighted avg       0.75      0.44      0.42      2110\n",
      "\n"
     ]
    }
   ],
   "source": [
    "estimator_rf_fin.fit(x2_train,y2_train)\n",
    "y2_pred = estimator_rf_fin.predict(x2_test)\n",
    "print(classification_report(y2_test, y2_pred))"
   ]
  },
  {
   "cell_type": "code",
   "execution_count": 80,
   "id": "mature-garage",
   "metadata": {},
   "outputs": [
    {
     "data": {
      "text/plain": [
       "<sklearn.metrics._plot.precision_recall_curve.PrecisionRecallDisplay at 0x7ff02b36b5b0>"
      ]
     },
     "execution_count": 80,
     "metadata": {},
     "output_type": "execute_result"
    },
    {
     "data": {
      "image/png": "[encoded data removed]",
      "text/plain": [
       "<Figure size 432x288 with 1 Axes>"
      ]
     },
     "metadata": {
      "needs_background": "light"
     },
     "output_type": "display_data"
    }
   ],
   "source": [
    "plot_precision_recall_curve(estimator_rf_fin,x2_test,y2_test)"
   ]
  },
  {
   "cell_type": "markdown",
   "id": "religious-astronomy",
   "metadata": {},
   "source": [
    ">The precision recall curve shows the lowest AP score, meaning the model is totally focused for recall score only."
   ]
  },
  {
   "cell_type": "code",
   "execution_count": 106,
   "id": "eastern-layer",
   "metadata": {},
   "outputs": [
    {
     "name": "stdout",
     "output_type": "stream",
     "text": [
      "tn :  396  fp :  1153  fn :  38  tp :  523\n"
     ]
    },
    {
     "data": {
      "text/plain": [
       "<AxesSubplot:>"
      ]
     },
     "execution_count": 106,
     "metadata": {},
     "output_type": "execute_result"
    },
    {
     "data": {
      "image/png": "[encoded data removed]",
      "text/plain": [
       "<Figure size 432x288 with 2 Axes>"
      ]
     },
     "metadata": {
      "needs_background": "light"
     },
     "output_type": "display_data"
    }
   ],
   "source": [
    "tn, fp, fn, tp = confusion_matrix(y2_test,y2_pred).ravel()\n",
    "print('tn : ',tn, ' fp : ',fp,' fn : ' ,fn,' tp : ' ,tp)\n",
    "sns.heatmap(confusion_matrix(y2_test,y2_pred), annot = True, fmt = 'd')"
   ]
  },
  {
   "cell_type": "markdown",
   "id": "annual-lafayette",
   "metadata": {},
   "source": [
    ">Fitting model with feature selection dataset results in same recall score and slightly lower false negative numbers. This proves the model stability since the model could produce the same result with reduced features. Since the model is stable with feature selecetion dataset, I will use this model & dataset and deploy them to dashboard."
   ]
  },
  {
   "cell_type": "markdown",
   "id": "eligible-clerk",
   "metadata": {},
   "source": [
    "## Saving Model with Pickle"
   ]
  },
  {
   "cell_type": "code",
   "execution_count": 81,
   "id": "finite-discretion",
   "metadata": {},
   "outputs": [],
   "source": [
    "import pickle"
   ]
  },
  {
   "cell_type": "code",
   "execution_count": 82,
   "id": "hindu-swiss",
   "metadata": {},
   "outputs": [
    {
     "data": {
      "text/plain": [
       "Pipeline(steps=[('transformer',\n",
       "                 ColumnTransformer(remainder='passthrough',\n",
       "                                   transformers=[('one hot',\n",
       "                                                  OneHotEncoder(drop='first'),\n",
       "                                                  ['InternetService',\n",
       "                                                   'OnlineSecurity',\n",
       "                                                   'OnlineBackup',\n",
       "                                                   'DeviceProtection',\n",
       "                                                   'TechSupport', 'StreamingTV',\n",
       "                                                   'StreamingMovies',\n",
       "                                                   'PaymentMethod']),\n",
       "                                                 ('scalling', StandardScaler(),\n",
       "                                                  ['MonthlyCharges'])])),\n",
       "                ('balancing', NearMiss(n_neighbors=15)),\n",
       "                ('model',\n",
       "                 RandomForestClassifier(bootstrap=False, criterion='entropy',\n",
       "                                        max_depth=3, n_estimators=10))])"
      ]
     },
     "execution_count": 82,
     "metadata": {},
     "output_type": "execute_result"
    }
   ],
   "source": [
    "estimator_rf_fin.fit(x2,y2)"
   ]
  },
  {
   "cell_type": "code",
   "execution_count": 83,
   "id": "drawn-arctic",
   "metadata": {},
   "outputs": [],
   "source": [
    "file_name = 'final_model.sav'\n",
    "\n",
    "pickle.dump(estimator_rf_fin, open(file_name,'wb'))"
   ]
  },
  {
   "cell_type": "code",
   "execution_count": 84,
   "id": "approved-undergraduate",
   "metadata": {},
   "outputs": [
    {
     "data": {
      "text/plain": [
       "array([0, 1, 1, ..., 1, 0, 1])"
      ]
     },
     "execution_count": 84,
     "metadata": {},
     "output_type": "execute_result"
    }
   ],
   "source": [
    "loaded_model = pickle.load(open(file_name,'rb'))\n",
    "loaded_model.predict(x2_test)"
   ]
  },
  {
   "cell_type": "markdown",
   "id": "electronic-departure",
   "metadata": {},
   "source": [
    "### Saving Final Dataset"
   ]
  },
  {
   "cell_type": "code",
   "execution_count": 88,
   "id": "cultural-tracker",
   "metadata": {},
   "outputs": [
    {
     "data": {
      "text/html": [
       "<div>\n",
       "<style scoped>\n",
       "    .dataframe tbody tr th:only-of-type {\n",
       "        vertical-align: middle;\n",
       "    }\n",
       "\n",
       "    .dataframe tbody tr th {\n",
       "        vertical-align: top;\n",
       "    }\n",
       "\n",
       "    .dataframe thead th {\n",
       "        text-align: right;\n",
       "    }\n",
       "</style>\n",
       "<table border=\"1\" class=\"dataframe\">\n",
       "  <thead>\n",
       "    <tr style=\"text-align: right;\">\n",
       "      <th></th>\n",
       "      <th>CustomerID</th>\n",
       "      <th>SeniorCitizen</th>\n",
       "      <th>InternetService</th>\n",
       "      <th>OnlineSecurity</th>\n",
       "      <th>OnlineBackup</th>\n",
       "      <th>DeviceProtection</th>\n",
       "      <th>TechSupport</th>\n",
       "      <th>StreamingTV</th>\n",
       "      <th>StreamingMovies</th>\n",
       "      <th>PaymentMethod</th>\n",
       "      <th>MonthlyCharges</th>\n",
       "      <th>Churn</th>\n",
       "    </tr>\n",
       "  </thead>\n",
       "  <tbody>\n",
       "    <tr>\n",
       "      <th>0</th>\n",
       "      <td>7590-VHVEG</td>\n",
       "      <td>0</td>\n",
       "      <td>DSL</td>\n",
       "      <td>No</td>\n",
       "      <td>Yes</td>\n",
       "      <td>No</td>\n",
       "      <td>No</td>\n",
       "      <td>No</td>\n",
       "      <td>No</td>\n",
       "      <td>Electronic check</td>\n",
       "      <td>29.85</td>\n",
       "      <td>0</td>\n",
       "    </tr>\n",
       "    <tr>\n",
       "      <th>1</th>\n",
       "      <td>5575-GNVDE</td>\n",
       "      <td>0</td>\n",
       "      <td>DSL</td>\n",
       "      <td>Yes</td>\n",
       "      <td>No</td>\n",
       "      <td>Yes</td>\n",
       "      <td>No</td>\n",
       "      <td>No</td>\n",
       "      <td>No</td>\n",
       "      <td>Mailed check</td>\n",
       "      <td>56.95</td>\n",
       "      <td>0</td>\n",
       "    </tr>\n",
       "    <tr>\n",
       "      <th>2</th>\n",
       "      <td>3668-QPYBK</td>\n",
       "      <td>0</td>\n",
       "      <td>DSL</td>\n",
       "      <td>Yes</td>\n",
       "      <td>Yes</td>\n",
       "      <td>No</td>\n",
       "      <td>No</td>\n",
       "      <td>No</td>\n",
       "      <td>No</td>\n",
       "      <td>Mailed check</td>\n",
       "      <td>53.85</td>\n",
       "      <td>1</td>\n",
       "    </tr>\n",
       "    <tr>\n",
       "      <th>3</th>\n",
       "      <td>7795-CFOCW</td>\n",
       "      <td>0</td>\n",
       "      <td>DSL</td>\n",
       "      <td>Yes</td>\n",
       "      <td>No</td>\n",
       "      <td>Yes</td>\n",
       "      <td>Yes</td>\n",
       "      <td>No</td>\n",
       "      <td>No</td>\n",
       "      <td>Bank transfer (automatic)</td>\n",
       "      <td>42.30</td>\n",
       "      <td>0</td>\n",
       "    </tr>\n",
       "    <tr>\n",
       "      <th>4</th>\n",
       "      <td>9237-HQITU</td>\n",
       "      <td>0</td>\n",
       "      <td>Fiber optic</td>\n",
       "      <td>No</td>\n",
       "      <td>No</td>\n",
       "      <td>No</td>\n",
       "      <td>No</td>\n",
       "      <td>No</td>\n",
       "      <td>No</td>\n",
       "      <td>Electronic check</td>\n",
       "      <td>70.70</td>\n",
       "      <td>1</td>\n",
       "    </tr>\n",
       "    <tr>\n",
       "      <th>...</th>\n",
       "      <td>...</td>\n",
       "      <td>...</td>\n",
       "      <td>...</td>\n",
       "      <td>...</td>\n",
       "      <td>...</td>\n",
       "      <td>...</td>\n",
       "      <td>...</td>\n",
       "      <td>...</td>\n",
       "      <td>...</td>\n",
       "      <td>...</td>\n",
       "      <td>...</td>\n",
       "      <td>...</td>\n",
       "    </tr>\n",
       "    <tr>\n",
       "      <th>95</th>\n",
       "      <td>8637-XJIVR</td>\n",
       "      <td>0</td>\n",
       "      <td>Fiber optic</td>\n",
       "      <td>Yes</td>\n",
       "      <td>No</td>\n",
       "      <td>No</td>\n",
       "      <td>No</td>\n",
       "      <td>No</td>\n",
       "      <td>No</td>\n",
       "      <td>Electronic check</td>\n",
       "      <td>78.95</td>\n",
       "      <td>1</td>\n",
       "    </tr>\n",
       "    <tr>\n",
       "      <th>96</th>\n",
       "      <td>9803-FTJCG</td>\n",
       "      <td>0</td>\n",
       "      <td>DSL</td>\n",
       "      <td>Yes</td>\n",
       "      <td>Yes</td>\n",
       "      <td>No</td>\n",
       "      <td>Yes</td>\n",
       "      <td>No</td>\n",
       "      <td>No</td>\n",
       "      <td>Credit card (automatic)</td>\n",
       "      <td>66.85</td>\n",
       "      <td>0</td>\n",
       "    </tr>\n",
       "    <tr>\n",
       "      <th>97</th>\n",
       "      <td>0278-YXOOG</td>\n",
       "      <td>0</td>\n",
       "      <td>No</td>\n",
       "      <td>No internet service</td>\n",
       "      <td>No internet service</td>\n",
       "      <td>No internet service</td>\n",
       "      <td>No internet service</td>\n",
       "      <td>No internet service</td>\n",
       "      <td>No internet service</td>\n",
       "      <td>Mailed check</td>\n",
       "      <td>21.05</td>\n",
       "      <td>1</td>\n",
       "    </tr>\n",
       "    <tr>\n",
       "      <th>98</th>\n",
       "      <td>3212-KXOCR</td>\n",
       "      <td>0</td>\n",
       "      <td>No</td>\n",
       "      <td>No internet service</td>\n",
       "      <td>No internet service</td>\n",
       "      <td>No internet service</td>\n",
       "      <td>No internet service</td>\n",
       "      <td>No internet service</td>\n",
       "      <td>No internet service</td>\n",
       "      <td>Bank transfer (automatic)</td>\n",
       "      <td>21.00</td>\n",
       "      <td>0</td>\n",
       "    </tr>\n",
       "    <tr>\n",
       "      <th>99</th>\n",
       "      <td>4598-XLKNJ</td>\n",
       "      <td>1</td>\n",
       "      <td>Fiber optic</td>\n",
       "      <td>No</td>\n",
       "      <td>Yes</td>\n",
       "      <td>Yes</td>\n",
       "      <td>No</td>\n",
       "      <td>Yes</td>\n",
       "      <td>Yes</td>\n",
       "      <td>Electronic check</td>\n",
       "      <td>98.50</td>\n",
       "      <td>1</td>\n",
       "    </tr>\n",
       "  </tbody>\n",
       "</table>\n",
       "<p>100 rows × 12 columns</p>\n",
       "</div>"
      ],
      "text/plain": [
       "    CustomerID  SeniorCitizen InternetService       OnlineSecurity  \\\n",
       "0   7590-VHVEG              0             DSL                   No   \n",
       "1   5575-GNVDE              0             DSL                  Yes   \n",
       "2   3668-QPYBK              0             DSL                  Yes   \n",
       "3   7795-CFOCW              0             DSL                  Yes   \n",
       "4   9237-HQITU              0     Fiber optic                   No   \n",
       "..         ...            ...             ...                  ...   \n",
       "95  8637-XJIVR              0     Fiber optic                  Yes   \n",
       "96  9803-FTJCG              0             DSL                  Yes   \n",
       "97  0278-YXOOG              0              No  No internet service   \n",
       "98  3212-KXOCR              0              No  No internet service   \n",
       "99  4598-XLKNJ              1     Fiber optic                   No   \n",
       "\n",
       "           OnlineBackup     DeviceProtection          TechSupport  \\\n",
       "0                   Yes                   No                   No   \n",
       "1                    No                  Yes                   No   \n",
       "2                   Yes                   No                   No   \n",
       "3                    No                  Yes                  Yes   \n",
       "4                    No                   No                   No   \n",
       "..                  ...                  ...                  ...   \n",
       "95                   No                   No                   No   \n",
       "96                  Yes                   No                  Yes   \n",
       "97  No internet service  No internet service  No internet service   \n",
       "98  No internet service  No internet service  No internet service   \n",
       "99                  Yes                  Yes                   No   \n",
       "\n",
       "            StreamingTV      StreamingMovies              PaymentMethod  \\\n",
       "0                    No                   No           Electronic check   \n",
       "1                    No                   No               Mailed check   \n",
       "2                    No                   No               Mailed check   \n",
       "3                    No                   No  Bank transfer (automatic)   \n",
       "4                    No                   No           Electronic check   \n",
       "..                  ...                  ...                        ...   \n",
       "95                   No                   No           Electronic check   \n",
       "96                   No                   No    Credit card (automatic)   \n",
       "97  No internet service  No internet service               Mailed check   \n",
       "98  No internet service  No internet service  Bank transfer (automatic)   \n",
       "99                  Yes                  Yes           Electronic check   \n",
       "\n",
       "    MonthlyCharges  Churn  \n",
       "0            29.85      0  \n",
       "1            56.95      0  \n",
       "2            53.85      1  \n",
       "3            42.30      0  \n",
       "4            70.70      1  \n",
       "..             ...    ...  \n",
       "95           78.95      1  \n",
       "96           66.85      0  \n",
       "97           21.05      1  \n",
       "98           21.00      0  \n",
       "99           98.50      1  \n",
       "\n",
       "[100 rows x 12 columns]"
      ]
     },
     "execution_count": 88,
     "metadata": {},
     "output_type": "execute_result"
    }
   ],
   "source": [
    "df3 = df2.head(100)\n",
    "df3"
   ]
  },
  {
   "cell_type": "code",
   "execution_count": 87,
   "id": "expanded-donna",
   "metadata": {},
   "outputs": [],
   "source": [
    "df3.to_csv('df_telco.csv')"
   ]
  },
  {
   "cell_type": "code",
   "execution_count": 89,
   "id": "center-berlin",
   "metadata": {},
   "outputs": [
    {
     "data": {
      "text/html": [
       "<div>\n",
       "<style scoped>\n",
       "    .dataframe tbody tr th:only-of-type {\n",
       "        vertical-align: middle;\n",
       "    }\n",
       "\n",
       "    .dataframe tbody tr th {\n",
       "        vertical-align: top;\n",
       "    }\n",
       "\n",
       "    .dataframe thead th {\n",
       "        text-align: right;\n",
       "    }\n",
       "</style>\n",
       "<table border=\"1\" class=\"dataframe\">\n",
       "  <thead>\n",
       "    <tr style=\"text-align: right;\">\n",
       "      <th></th>\n",
       "      <th>SeniorCitizen</th>\n",
       "      <th>MonthlyCharges</th>\n",
       "      <th>Churn</th>\n",
       "    </tr>\n",
       "  </thead>\n",
       "  <tbody>\n",
       "    <tr>\n",
       "      <th>count</th>\n",
       "      <td>7032.000000</td>\n",
       "      <td>7032.000000</td>\n",
       "      <td>7032.000000</td>\n",
       "    </tr>\n",
       "    <tr>\n",
       "      <th>mean</th>\n",
       "      <td>0.162400</td>\n",
       "      <td>64.798208</td>\n",
       "      <td>0.265785</td>\n",
       "    </tr>\n",
       "    <tr>\n",
       "      <th>std</th>\n",
       "      <td>0.368844</td>\n",
       "      <td>30.085974</td>\n",
       "      <td>0.441782</td>\n",
       "    </tr>\n",
       "    <tr>\n",
       "      <th>min</th>\n",
       "      <td>0.000000</td>\n",
       "      <td>18.250000</td>\n",
       "      <td>0.000000</td>\n",
       "    </tr>\n",
       "    <tr>\n",
       "      <th>25%</th>\n",
       "      <td>0.000000</td>\n",
       "      <td>35.587500</td>\n",
       "      <td>0.000000</td>\n",
       "    </tr>\n",
       "    <tr>\n",
       "      <th>50%</th>\n",
       "      <td>0.000000</td>\n",
       "      <td>70.350000</td>\n",
       "      <td>0.000000</td>\n",
       "    </tr>\n",
       "    <tr>\n",
       "      <th>75%</th>\n",
       "      <td>0.000000</td>\n",
       "      <td>89.862500</td>\n",
       "      <td>1.000000</td>\n",
       "    </tr>\n",
       "    <tr>\n",
       "      <th>max</th>\n",
       "      <td>1.000000</td>\n",
       "      <td>118.750000</td>\n",
       "      <td>1.000000</td>\n",
       "    </tr>\n",
       "  </tbody>\n",
       "</table>\n",
       "</div>"
      ],
      "text/plain": [
       "       SeniorCitizen  MonthlyCharges        Churn\n",
       "count    7032.000000     7032.000000  7032.000000\n",
       "mean        0.162400       64.798208     0.265785\n",
       "std         0.368844       30.085974     0.441782\n",
       "min         0.000000       18.250000     0.000000\n",
       "25%         0.000000       35.587500     0.000000\n",
       "50%         0.000000       70.350000     0.000000\n",
       "75%         0.000000       89.862500     1.000000\n",
       "max         1.000000      118.750000     1.000000"
      ]
     },
     "execution_count": 89,
     "metadata": {},
     "output_type": "execute_result"
    }
   ],
   "source": [
    "df2.describe()"
   ]
  }
 ],
 "metadata": {
  "kernelspec": {
   "display_name": "Python 3",
   "language": "python",
   "name": "python3"
  },
  "language_info": {
   "codemirror_mode": {
    "name": "ipython",
    "version": 3
   },
   "file_extension": ".py",
   "mimetype": "text/x-python",
   "name": "python",
   "nbconvert_exporter": "python",
   "pygments_lexer": "ipython3",
   "version": "3.8.3"
  }
 },
 "nbformat": 4,
 "nbformat_minor": 5
}
